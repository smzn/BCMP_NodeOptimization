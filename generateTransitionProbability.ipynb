{
  "nbformat": 4,
  "nbformat_minor": 0,
  "metadata": {
    "colab": {
      "name": "generateTransitionProbability.ipynb",
      "provenance": [],
      "collapsed_sections": []
    },
    "kernelspec": {
      "name": "python3",
      "display_name": "Python 3"
    },
    "language_info": {
      "name": "python"
    }
  },
  "cells": [
    {
      "cell_type": "code",
      "execution_count": 1,
      "metadata": {
        "colab": {
          "base_uri": "https://localhost:8080/"
        },
        "id": "2nTSm7RCcQXK",
        "outputId": "13b0d3d9-1a3c-4cc4-89b4-99ed29a808c0"
      },
      "outputs": [
        {
          "output_type": "stream",
          "name": "stdout",
          "text": [
            "Mounted at /content/drive\n"
          ]
        }
      ],
      "source": [
        "from google.colab import drive\n",
        "drive.mount('/content/drive', force_remount=True)"
      ]
    },
    {
      "cell_type": "code",
      "source": [
        "import pandas as pd\n",
        "import numpy as np\n",
        "import random"
      ],
      "metadata": {
        "id": "HpmuGU7XcX3B"
      },
      "execution_count": 2,
      "outputs": []
    },
    {
      "cell_type": "code",
      "source": [
        "N = 33\n",
        "R = 3\n",
        "K = 500"
      ],
      "metadata": {
        "id": "tsBEw8DGcycw"
      },
      "execution_count": 3,
      "outputs": []
    },
    {
      "cell_type": "code",
      "source": [
        "#重力モデルで推移確率行列を作成 \n",
        "def getGravity(distance, popularity): #distanceは距離行列、popularityはクラス分の人気度\n",
        "  C = 0.1475\n",
        "  alpha = 1.0\n",
        "  beta = 1.0\n",
        "  eta = 0.5\n",
        "  class_number = len(popularity[0]) #クラス数\n",
        "  tp = np.zeros((len(distance) * class_number, len(distance) * class_number))\n",
        "  for r in range(class_number):\n",
        "    for i in range(len(distance) * r, len(distance) * (r+1)):\n",
        "      for j in range(len(distance) * r, len(distance) * (r+1)):\n",
        "        if distance[i % len(distance)][j % len(distance)] > 0:\n",
        "          tp[i][j] = C * (popularity[i % len(distance)][r]**alpha) * (popularity[j % len(distance)][r]**beta) / (distance[i % len(distance)][j % len(distance)]**eta)\n",
        "  row_sum = np.sum(tp, axis=1) #行和を算出\n",
        "  for i in range(len(tp)): #行和を1にする\n",
        "    if row_sum[i] > 0:\n",
        "      tp[i] /= row_sum[i]\n",
        "  return tp "
      ],
      "metadata": {
        "id": "MJhpnY0d7ami"
      },
      "execution_count": 4,
      "outputs": []
    },
    {
      "cell_type": "code",
      "source": [
        "def getTransitionProbability(N, R):\n",
        "  #(1) 拠点の設置と拠点間距離\n",
        "  node_position_x = [random.randint(0,500) for i in range(N)]\n",
        "  node_position_y = [random.randint(0,500) for i in range(N)]\n",
        "  from_id = [] #DF作成用\n",
        "  to_id = [] #DF作成用\n",
        "  distance = []\n",
        "  for i in range(N):\n",
        "    for j in range(i+1,N):\n",
        "      from_id.append(i)\n",
        "      to_id.append(j)\n",
        "      distance.append(np.sqrt((node_position_x[i]-node_position_x[j])**2 + (node_position_y[i]-node_position_y[j])**2))\n",
        "  df_distance = pd.DataFrame({ 'from_id' : from_id,\n",
        "                          'to_id' : to_id,\n",
        "                          'distance' : distance\n",
        "  })#データフレーム化\n",
        "  #距離行列の作成\n",
        "  distance_matrix = np.zeros((N,N))\n",
        "  for row in df_distance.itertuples(): #右三角行列で作成される\n",
        "    distance_matrix[int(row.from_id)][int(row.to_id)] = row.distance\n",
        "  for i in range(len(distance_matrix)): #下三角に値を入れる(対象)\n",
        "    for j in range(i+1, len(distance_matrix)):\n",
        "      distance_matrix[j][i] = distance_matrix[i][j]\n",
        "\n",
        "  #(2)人気度の設定\n",
        "  popularity = np.abs(np.random.normal(10, 2, (N, R)))\n",
        "\n",
        "  #(3)推移確率行列の作成\n",
        "  tp = getGravity(distance_matrix, popularity)\n",
        "\n",
        "  #(4)拠点情報(拠点番号、位置(x,y)、人気度(クラス数分))の生成\n",
        "  df_node = pd.DataFrame({ 'node_number' : range(N),\n",
        "                        'position_x' : node_position_x,\n",
        "                        'position_y' : node_position_y,\n",
        "  })\n",
        "  df_node.set_index('node_number',inplace=True)\n",
        "  #popularityを追加\n",
        "  columns = ['popurarity_'+str(i) for i in range(R)]\n",
        "  for i, val in enumerate(columns):\n",
        "    df_node[val] = popularity[:, i]\n",
        "\n",
        "  #(5)情報の保存\n",
        "  df_node.to_csv('/content/drive/MyDrive/研究/BCMP/TransitionProbability/csv/node_N'+str(N)+'_R'+str(R)+'_K'+str(K)+'.csv', index=True)\n",
        "  df_distance.to_csv('/content/drive/MyDrive/研究/BCMP/TransitionProbability/csv/distance_N'+str(N)+'_R'+str(R)+'_K'+str(K)+'.csv', index=True)\n",
        "  pd.DataFrame(distance_matrix).to_csv('/content/drive/MyDrive/研究/BCMP/TransitionProbability/csv/distance_matrix_N'+str(N)+'_R'+str(R)+'_K'+str(K)+'.csv', index=True)\n",
        "  pd.DataFrame(tp).to_csv('/content/drive/MyDrive/研究/BCMP/TransitionProbability/csv/transition_probability_N'+str(N)+'_R'+str(R)+'_K'+str(K)+'.csv', index=True)"
      ],
      "metadata": {
        "id": "Wv9RG-1N9Fui"
      },
      "execution_count": 5,
      "outputs": []
    },
    {
      "cell_type": "code",
      "source": [
        "getTransitionProbability(N,R)"
      ],
      "metadata": {
        "id": "dLyfE6YCBXwb"
      },
      "execution_count": 6,
      "outputs": []
    },
    {
      "cell_type": "code",
      "source": [
        ""
      ],
      "metadata": {
        "id": "efMuBfj6FvTo"
      },
      "execution_count": 6,
      "outputs": []
    }
  ]
}