{
  "nbformat": 4,
  "nbformat_minor": 0,
  "metadata": {
    "colab": {
      "name": "マルチクラス複数窓口(QN&MC P395 EX8.5).ipynb",
      "provenance": [],
      "collapsed_sections": []
    },
    "kernelspec": {
      "name": "python3",
      "display_name": "Python 3"
    },
    "language_info": {
      "name": "python"
    }
  },
  "cells": [
    {
      "cell_type": "code",
      "execution_count": 1,
      "metadata": {
        "id": "M7zcZPDZuLKW"
      },
      "outputs": [],
      "source": [
        "import numpy as np\n",
        "from numpy.linalg import solve"
      ]
    },
    {
      "cell_type": "code",
      "source": [
        "def getPi(n, j, k, kr):\n",
        "  kkr = k - kr #指定クラスを1引いたもの\n",
        "  if min(kkr) < 0:\n",
        "    return 0\n",
        "  if j == 0 and sum(kkr) == 0: #Initializationより\n",
        "    return 1\n",
        "  if j == 1 and sum(kkr) == 0: #Initializationより\n",
        "    return 0\n",
        "  if j == 0 and sum(kkr) >0: #(8.45)\n",
        "    #print('(8.45)')\n",
        "    state_number = int(getState(K, kkr))\n",
        "    sum_emlam = 0\n",
        "    for _r in range(len(K)):\n",
        "      sum_emlam += alpha[n][_r] * Lambda[_r][state_number] / mu[n][_r]\n",
        "    sum_pi = 0\n",
        "    for _j in range(1, m[n]):\n",
        "      #print('call getPi8_44({0}, {1}, {2}, {3})'.format(n, _j, kkr, kr))\n",
        "      sum_pi += (m[n] - _j ) * getPi8_44(n, _j, kkr, kr) #このgetPiは人数を減らさない\n",
        "    #print('getPi8_44 = {0}'.format(getPi8_44(n, _j, kkr, kr)))\n",
        "    #print('8.45 sum_pi = {0}, (n, j) = ({1}, {2})'.format(sum_pi, n, j))\n",
        "    return 1 - 1 / m[n] * (sum_emlam + sum_pi)\n",
        "  if j > 0 and sum(kkr) > 0: #(8.44) また未チェック\n",
        "    #print('(8.44)!!')\n",
        "    sum_val = 0\n",
        "    state_number = int(getState(K, kkr))\n",
        "    for _r in range(len(K)):\n",
        "      sum_val += alpha[n][_r] * Lambda[_r][state_number] * Lambda[_r][state_number] / mu[n][_r] * getPi(n, j-1, kkr, kr)\n",
        "    return 1 / j * (sum_val) "
      ],
      "metadata": {
        "id": "dGXEZHRD5YRW"
      },
      "execution_count": 2,
      "outputs": []
    },
    {
      "cell_type": "code",
      "source": [
        "def getPi8_44(n, j, k, kr): #(8.45)から(8.44)を呼び出すときだけ利用 (人数を減らさず呼び出し)\n",
        "  #print('getPi8_44({0}, {1}, {2}, {3})'.format(n, j, k, kr))\n",
        "  sum_val = 0\n",
        "  state_number = int(getState(K, k))\n",
        "  for _r in range(len(K)):\n",
        "    kr = np.zeros(len(k))\n",
        "    kr[_r] += 1\n",
        "    sum_val += alpha[n][_r] * Lambda[_r][state_number] / mu[n][_r] * getPi(n, j-1, k, kr) #ここで呼び出すgetPiのkrを変更しないといけない->修正、値があった\n",
        "  #print('getPi8_44 = {0}'.format(sum_val))\n",
        "  return 1 / j * (sum_val) "
      ],
      "metadata": {
        "id": "ITunN8Dp0rX8"
      },
      "execution_count": 3,
      "outputs": []
    },
    {
      "cell_type": "code",
      "source": [
        "def getState_kr(K, k, kr):\n",
        "  state = 0\n",
        "  kkr = k - kr\n",
        "  if min(kkr) < 0:\n",
        "    return -1\n",
        "  else:\n",
        "    for i in range(len(k)):\n",
        "      #state += k[i] * (max(K) + 1)**int(len(k)-1-i)\n",
        "      state += kkr[i] * (max(K) + 1)**int(len(kkr)-1-i)\n",
        "    return state"
      ],
      "metadata": {
        "id": "oPDrKGJEKRBg"
      },
      "execution_count": 4,
      "outputs": []
    },
    {
      "cell_type": "code",
      "source": [
        "def getState(K, k):\n",
        "  state = 0\n",
        "  for i in range(len(k)):\n",
        "    state += k[i] * (max(K) + 1)**int(len(k)-1-i)\n",
        "  return state"
      ],
      "metadata": {
        "id": "6yslr5f7LZRG"
      },
      "execution_count": 5,
      "outputs": []
    },
    {
      "cell_type": "code",
      "source": [
        "def getL(n, r, state_number):\n",
        "  if state_number >= 0:\n",
        "    return L[n,r,state_number]\n",
        "  else:\n",
        "    return 0"
      ],
      "metadata": {
        "id": "Fk80ilPlsatB"
      },
      "execution_count": 6,
      "outputs": []
    },
    {
      "cell_type": "code",
      "source": [
        "def calcT(k, state_number):\n",
        "  for r in range(len(K)):\n",
        "    #現在の状態と、クラスから1引いたkrを求め、k-1rの状態を持ってくる\n",
        "    #state_number = getState(K, k) #現在の状態\n",
        "    kr = np.zeros(len(k))\n",
        "    kr[r] += 1\n",
        "    kr_state_number = int(getState_kr(K, k, kr)) #対象クラスから1引いた状態\n",
        "\n",
        "    if kr_state_number < 0:\n",
        "      for n in range(len(m)):\n",
        "        T[n,r,state_number] = 0\n",
        "    else:\n",
        "      for n in range(len(m)): # r = 0\n",
        "        if m[n] >= 1:\n",
        "          sum_L = 0\n",
        "          for _r in range(len(K)): #Lの和の部分を計算\n",
        "            sum_L += getL(n, _r, kr_state_number)\n",
        "          T[n,r,state_number] = 1 / (m[n] * mu[n,r]) * (1 + sum_L)\n",
        "          if m[n] > 1:\n",
        "            sum_pi = 0\n",
        "            for _j in range(m[n]-2+1):\n",
        "              sum_pi += getPi(n, _j, k, kr) \n",
        "            T[n,r,state_number] += 1 / (m[n] * mu[n,r]) * sum_pi\n",
        "        if m[n] == 0:\n",
        "          T[n,r,state_number] = 1 / mu[n,r]"
      ],
      "metadata": {
        "id": "kVHQo41bIo3z"
      },
      "execution_count": 7,
      "outputs": []
    },
    {
      "cell_type": "code",
      "source": [
        "def calcLambda(k, state_number):\n",
        "  for r in range(len(K)):#クラス数ループ\n",
        "    et = 0\n",
        "    for i in range(len(m)):#ノード数ループ\n",
        "      et += alpha[i,r] * T[i,r,state_number]\n",
        "    if et == 0:\n",
        "      continue\n",
        "    Lambda[r][state_number] = k[r] / et"
      ],
      "metadata": {
        "id": "pA7xNZP8mhDG"
      },
      "execution_count": 8,
      "outputs": []
    },
    {
      "cell_type": "code",
      "source": [
        "def calcL(k, state_number):\n",
        "  for i in range(len(m)):#ノード数ループ\n",
        "    for r in range(len(K)):#クラス数ループ\n",
        "      L[i,r,state_number] = Lambda[r][state_number] * T[i,r,state_number] * alpha[i,r]"
      ],
      "metadata": {
        "id": "Hs8q21vJsJok"
      },
      "execution_count": 9,
      "outputs": []
    },
    {
      "cell_type": "code",
      "source": [
        "#初期設定\n",
        "K = [2, 1]\n",
        "m = [2, 1, 0] #Node3はIS(Infinite server)\n",
        "mu = np.array([[5.0, 5.0], [5/2, 5/3], [1, 0.5]])\n",
        "alpha = np.array([[1.0, 1.0], [0.6, 0.3], [0.4, 0.7]])\n",
        "\n",
        "#2022/07/11 状態算出 (今回は3進数2桁)\n",
        "max_state_number = max(K) * (max(K) + 1)**1 + max(K) * (max(K) + 1)**0\n",
        "max_state_number\n",
        "\n",
        "L = np.zeros((len(m), len(K), max_state_number))\n",
        "T = np.zeros((len(m), len(K), max_state_number))\n",
        "Lambda = np.zeros((len(K), max_state_number))\n",
        "\n",
        "k_list = np.array([[1, 0], [0, 1], [1, 1], [2, 0], [2, 1]])"
      ],
      "metadata": {
        "id": "vuc9kathudqa"
      },
      "execution_count": 10,
      "outputs": []
    },
    {
      "cell_type": "code",
      "source": [
        "for k in k_list:\n",
        "  print(k)\n",
        "  state_number = getState(K, k)\n",
        "  print('state_number = {0}'.format(state_number))\n",
        "  calcT(k, state_number)\n",
        "  print('T')\n",
        "  print(T)\n",
        "  calcLambda(k, state_number)\n",
        "  print('Lambda')\n",
        "  print(Lambda)\n",
        "  calcL(k, state_number)\n",
        "  print('L')\n",
        "  print(L)"
      ],
      "metadata": {
        "colab": {
          "base_uri": "https://localhost:8080/"
        },
        "id": "7eOXIbTEJurl",
        "outputId": "457a2fca-9185-4b91-c56c-7366a0adba5a"
      },
      "execution_count": 12,
      "outputs": [
        {
          "output_type": "stream",
          "name": "stdout",
          "text": [
            "[1 0]\n",
            "state_number = 3\n",
            "T\n",
            "[[[0.  0.  0.  0.2 0.  0.  0.  0. ]\n",
            "  [0.  0.  0.  0.  0.  0.  0.  0. ]]\n",
            "\n",
            " [[0.  0.  0.  0.4 0.  0.  0.  0. ]\n",
            "  [0.  0.  0.  0.  0.  0.  0.  0. ]]\n",
            "\n",
            " [[0.  0.  0.  1.  0.  0.  0.  0. ]\n",
            "  [0.  0.  0.  0.  0.  0.  0.  0. ]]]\n",
            "Lambda\n",
            "[[0.         0.         0.         1.19047619 0.         0.\n",
            "  0.         0.        ]\n",
            " [0.         0.         0.         0.         0.         0.\n",
            "  0.         0.        ]]\n",
            "L\n",
            "[[[0.         0.         0.         0.23809524 0.         0.\n",
            "   0.         0.        ]\n",
            "  [0.         0.         0.         0.         0.         0.\n",
            "   0.         0.        ]]\n",
            "\n",
            " [[0.         0.         0.         0.28571429 0.         0.\n",
            "   0.         0.        ]\n",
            "  [0.         0.         0.         0.         0.         0.\n",
            "   0.         0.        ]]\n",
            "\n",
            " [[0.         0.         0.         0.47619048 0.         0.\n",
            "   0.         0.        ]\n",
            "  [0.         0.         0.         0.         0.         0.\n",
            "   0.         0.        ]]]\n",
            "[0 1]\n",
            "state_number = 1\n",
            "T\n",
            "[[[0.  0.  0.  0.2 0.  0.  0.  0. ]\n",
            "  [0.  0.2 0.  0.  0.  0.  0.  0. ]]\n",
            "\n",
            " [[0.  0.  0.  0.4 0.  0.  0.  0. ]\n",
            "  [0.  0.6 0.  0.  0.  0.  0.  0. ]]\n",
            "\n",
            " [[0.  0.  0.  1.  0.  0.  0.  0. ]\n",
            "  [0.  2.  0.  0.  0.  0.  0.  0. ]]]\n",
            "Lambda\n",
            "[[0.         0.         0.         1.19047619 0.         0.\n",
            "  0.         0.        ]\n",
            " [0.         0.56179775 0.         0.         0.         0.\n",
            "  0.         0.        ]]\n",
            "L\n",
            "[[[0.         0.         0.         0.23809524 0.         0.\n",
            "   0.         0.        ]\n",
            "  [0.         0.11235955 0.         0.         0.         0.\n",
            "   0.         0.        ]]\n",
            "\n",
            " [[0.         0.         0.         0.28571429 0.         0.\n",
            "   0.         0.        ]\n",
            "  [0.         0.1011236  0.         0.         0.         0.\n",
            "   0.         0.        ]]\n",
            "\n",
            " [[0.         0.         0.         0.47619048 0.         0.\n",
            "   0.         0.        ]\n",
            "  [0.         0.78651685 0.         0.         0.         0.\n",
            "   0.         0.        ]]]\n",
            "[1 1]\n",
            "state_number = 4\n",
            "T\n",
            "[[[0.         0.         0.         0.2        0.2        0.\n",
            "   0.         0.        ]\n",
            "  [0.         0.2        0.         0.         0.2        0.\n",
            "   0.         0.        ]]\n",
            "\n",
            " [[0.         0.         0.         0.4        0.44044944 0.\n",
            "   0.         0.        ]\n",
            "  [0.         0.6        0.         0.         0.77142857 0.\n",
            "   0.         0.        ]]\n",
            "\n",
            " [[0.         0.         0.         1.         1.         0.\n",
            "   0.         0.        ]\n",
            "  [0.         2.         0.         0.         2.         0.\n",
            "   0.         0.        ]]]\n",
            "Lambda\n",
            "[[0.         0.         0.         1.19047619 1.15704628 0.\n",
            "  0.         0.        ]\n",
            " [0.         0.56179775 0.         0.         0.54602184 0.\n",
            "  0.         0.        ]]\n",
            "L\n",
            "[[[0.         0.         0.         0.23809524 0.23140926 0.\n",
            "   0.         0.        ]\n",
            "  [0.         0.11235955 0.         0.         0.10920437 0.\n",
            "   0.         0.        ]]\n",
            "\n",
            " [[0.         0.         0.         0.28571429 0.30577223 0.\n",
            "   0.         0.        ]\n",
            "  [0.         0.1011236  0.         0.         0.12636505 0.\n",
            "   0.         0.        ]]\n",
            "\n",
            " [[0.         0.         0.         0.47619048 0.46281851 0.\n",
            "   0.         0.        ]\n",
            "  [0.         0.78651685 0.         0.         0.76443058 0.\n",
            "   0.         0.        ]]]\n",
            "[2 0]\n",
            "state_number = 6\n",
            "T\n",
            "[[[0.         0.         0.         0.2        0.2        0.\n",
            "   0.2        0.        ]\n",
            "  [0.         0.2        0.         0.         0.2        0.\n",
            "   0.         0.        ]]\n",
            "\n",
            " [[0.         0.         0.         0.4        0.44044944 0.\n",
            "   0.51428571 0.        ]\n",
            "  [0.         0.6        0.         0.         0.77142857 0.\n",
            "   0.         0.        ]]\n",
            "\n",
            " [[0.         0.         0.         1.         1.         0.\n",
            "   1.         0.        ]\n",
            "  [0.         2.         0.         0.         2.         0.\n",
            "   0.         0.        ]]]\n",
            "Lambda\n",
            "[[0.         0.         0.         1.19047619 1.15704628 0.\n",
            "  2.20125786 0.        ]\n",
            " [0.         0.56179775 0.         0.         0.54602184 0.\n",
            "  0.         0.        ]]\n",
            "L\n",
            "[[[0.         0.         0.         0.23809524 0.23140926 0.\n",
            "   0.44025157 0.        ]\n",
            "  [0.         0.11235955 0.         0.         0.10920437 0.\n",
            "   0.         0.        ]]\n",
            "\n",
            " [[0.         0.         0.         0.28571429 0.30577223 0.\n",
            "   0.67924528 0.        ]\n",
            "  [0.         0.1011236  0.         0.         0.12636505 0.\n",
            "   0.         0.        ]]\n",
            "\n",
            " [[0.         0.         0.         0.47619048 0.46281851 0.\n",
            "   0.88050314 0.        ]\n",
            "  [0.         0.78651685 0.         0.         0.76443058 0.\n",
            "   0.         0.        ]]]\n",
            "[2 1]\n",
            "state_number = 7\n",
            "T\n",
            "[[[0.         0.         0.         0.2        0.2        0.\n",
            "   0.2        0.2026001 ]\n",
            "  [0.         0.2        0.         0.         0.2        0.\n",
            "   0.         0.20524109]]\n",
            "\n",
            " [[0.         0.         0.         0.4        0.44044944 0.\n",
            "   0.51428571 0.57285491]\n",
            "  [0.         0.6        0.         0.         0.77142857 0.\n",
            "   0.         1.00754717]]\n",
            "\n",
            " [[0.         0.         0.         1.         1.         0.\n",
            "   1.         1.        ]\n",
            "  [0.         2.         0.         0.         2.         0.\n",
            "   0.         2.        ]]]\n",
            "Lambda\n",
            "[[0.         0.         0.         1.19047619 1.15704628 0.\n",
            "  2.20125786 2.11346551]\n",
            " [0.         0.56179775 0.         0.         0.54602184 0.\n",
            "  0.         0.52424496]]\n",
            "L\n",
            "[[[0.         0.         0.         0.23809524 0.23140926 0.\n",
            "   0.44025157 0.42818833]\n",
            "  [0.         0.11235955 0.         0.         0.10920437 0.\n",
            "   0.         0.10759661]]\n",
            "\n",
            " [[0.         0.         0.         0.28571429 0.30577223 0.\n",
            "   0.67924528 0.72642546]\n",
            "  [0.         0.1011236  0.         0.         0.12636505 0.\n",
            "   0.         0.15846046]]\n",
            "\n",
            " [[0.         0.         0.         0.47619048 0.46281851 0.\n",
            "   0.88050314 0.8453862 ]\n",
            "  [0.         0.78651685 0.         0.         0.76443058 0.\n",
            "   0.         0.73394294]]]\n"
          ]
        }
      ]
    },
    {
      "cell_type": "code",
      "source": [
        "#k = np.array([1, 0])\n",
        "\n",
        "#for r in range(len(K)):\n",
        "\n",
        "#  state_number = getState(K, k)\n",
        "#  kr = np.zeros(len(k))\n",
        "#  kr[r] += 1\n",
        "#  kr_state_number = int(getState_kr(K, k, kr))\n",
        "#  print(kr_state_number)\n",
        "\n",
        "#  if kr_state_number < 0:\n",
        "#    for n in range(len(m)):\n",
        "#      T[n,r,state_number] = 0\n",
        "#  else:\n",
        "#    for n in range(len(m)): # r = 0\n",
        "#      if m[n] >= 1:\n",
        "#        sum_L = 0\n",
        "#        for _r in range(len(K)): #Lの和の部分を計算\n",
        "#          sum_L += getL(n, _r, kr_state_number)\n",
        "#        T[n,r,state_number] = 1 / (m[n] * mu[n,r]) * (1 + sum_L)\n",
        "#        if m[n] > 1:\n",
        "#          sum_pi = 0\n",
        "#          for _j in range(m[n]-2+1):\n",
        "#            sum_pi += getPi(n, _j, k, kr) \n",
        "#          T[n,r,state_number] += 1 / (m[n] * mu[n,r]) * sum_pi\n",
        "          #T[n,r,state_number] += 1 / (m[n] * mu[n,r]) * getPi(n, 0, k, kr) #この0は一般化する\n",
        "      #if m[n] > 1:\n",
        "      #  T[n,r,state_number] = 1 / (m[n] * mu[n,r]) * (1 + getL(n,0,kr_state_number) + getL(n,1,kr_state_number) + getPi(n, 0, k, kr)) #getLの和を作成\n",
        "      #if m[n] == 1:\n",
        "      #  T[n,r,state_number] = 1 / (m[n] * mu[n,r]) * (1 + getL(n,0,kr_state_number) + getL(n,1,kr_state_number)) \n",
        "#      if m[n] == 0:\n",
        "#        T[n,r,state_number] = 1 / mu[n,r]   \n",
        "\n",
        "\n",
        "#r = 1\n",
        "#kr = np.zeros(len(k))\n",
        "#kr[r] += 1\n",
        "#print(k - kr)\n",
        "#print(min(k - kr))\n",
        "#kr_state_number = int(getState_kr(K, k, kr))\n",
        "#print(kr_state_number)\n",
        "#k - krを実施して、最小値が負になる場合は計算をしないようにする\n",
        "\n",
        "#if kr_state_number < 0:\n",
        "#  for n in range(len(m)):\n",
        "#    T[n,1,state_number] = 0\n",
        "#else: \n",
        "#  for n in range(len(m)): \n",
        "#    if m[n] > 1:\n",
        "#      T[n,1,state_number] = 1 / (m[n] * mu[n,1]) * (1 + getL(n,0,kr_state_number) + getL(n,1,kr_state_number) + getPi(n, 0, k, kr))\n",
        "#    if m[n] == 1:\n",
        "#      T[n,1,state_number] = 1 / (m[n] * mu[n,1]) * (1 + getL(n,0,kr_state_number) + getL(n,1,kr_state_number)) \n",
        "#    if m[n] == 0:\n",
        "#      T[n,1,state_number] = 1 / mu[n,1]   \n",
        "\n",
        "\n",
        "#for n in range(len(m)):\n",
        "#  if m[n] > 1:\n",
        "#    T[n,0,1,0] = 1 / (m[n] * mu[n,0]) * (1 + L[n,0,1-1,0] + L[n,1,1-1,0] + getPi(n, 0, [0, 0]))\n",
        "#  if m[n] == 1:\n",
        "#    T[n,0,1,0] = 1 / (m[n] * mu[n,0]) * (1 + L[n,0,1-1,0] + L[n,1,1-1,0]) \n",
        "#  if m[n] == 0:\n",
        "#    T[n,0,1,0] = 1 / mu[n,0]   \n",
        "#T[1,0,1,0] = 1 / (m[1] * mu[1,0]) * (1 + L[1,0,1-1,0] + L[1,1,1-1,0])\n",
        "#T[2,0,1,0] = 1 / mu[2,0]\n",
        "#T"
      ],
      "metadata": {
        "id": "oh_RPlZ5wCRl"
      },
      "execution_count": 13,
      "outputs": []
    },
    {
      "cell_type": "code",
      "source": [
        "#Step2.2\n",
        "#et = 0\n",
        "#for i in range(len(m)):\n",
        "#  et += alpha[i,0] * T[i,0,state_number]\n",
        "  #et += alpha[i,0] * T[i,0,1,0]\n",
        "#Lambda[0][state_number] = k[0] / et\n",
        "#Lambda[0] = k[0] / (alpha[0,0] * T[0,0,1,0] + alpha[1,0] * T[1,0,1,0] + alpha[2,0] * T[2,0,1,0])\n",
        "#Lambda"
      ],
      "metadata": {
        "id": "mlXaAyeR6Bzd"
      },
      "execution_count": 14,
      "outputs": []
    },
    {
      "cell_type": "code",
      "source": [
        "#Step2.3\n",
        "#L[0,0,state_number] = Lambda[0][state_number] * T[0,0,state_number] * alpha[0,0]\n",
        "#L[1,0,state_number] = Lambda[0][state_number] * T[1,0,state_number] * alpha[1,0]\n",
        "#L[2,0,state_number] = Lambda[0][state_number] * T[2,0,state_number] * alpha[2,0]\n",
        "\n",
        "#L[0,0,1,0] = Lambda[0] * T[0,0,1,0] * alpha[0,0]\n",
        "#L[1,0,1,0] = Lambda[0] * T[1,0,1,0] * alpha[1,0]\n",
        "#L[2,0,1,0] = Lambda[0] * T[2,0,1,0] * alpha[2,0]\n",
        "#L"
      ],
      "metadata": {
        "id": "CWbTHaOYQPav"
      },
      "execution_count": 15,
      "outputs": []
    },
    {
      "cell_type": "code",
      "source": [
        "#k = np.array([0, 1])\n",
        "#for r in range(len(K)):\n",
        "#  state_number = getState(K, k)\n",
        "#  kr = np.zeros(len(k))\n",
        "#  kr[r] += 1\n",
        "#  kr_state_number = int(getState_kr(K, k, kr))\n",
        "#  print(kr_state_number)\n",
        "\n",
        "#  if kr_state_number < 0:\n",
        "#    for n in range(len(m)):\n",
        "#      T[n,r,state_number] = 0\n",
        "#  else:\n",
        "#    for n in range(len(m)): \n",
        "#      if m[n] >= 1:\n",
        "#        sum_L = 0\n",
        "#        for _r in range(len(K)): #Lの和の部分を計算\n",
        "#          sum_L += getL(n, _r, kr_state_number)\n",
        "#        T[n,r,state_number] = 1 / (m[n] * mu[n,r]) * (1 + sum_L)\n",
        "#        if m[n] > 1:\n",
        "#          sum_pi = 0\n",
        "#          for _j in range(m[n]-2+1):\n",
        "#            sum_pi += getPi(n, _j, k, kr) \n",
        "#          T[n,r,state_number] += 1 / (m[n] * mu[n,r]) * sum_pi\n",
        "#      if m[n] == 0:\n",
        "#        T[n,r,state_number] = 1 / mu[n,r]   \n",
        "#T"
      ],
      "metadata": {
        "id": "DsTl8ivfyD7Y"
      },
      "execution_count": 16,
      "outputs": []
    },
    {
      "cell_type": "code",
      "source": [
        "#k = [0, 1]\n",
        "#state_number = k[0] * (max(K) + 1)**1 + k[1] * (max(K) + 1)**0\n",
        "#print(state_number)\n",
        "\n",
        "#for n in range(len(m)):\n",
        "#  if m[n] > 1:\n",
        "#    T[n,1,state_number] = 1 / (m[n] * mu[n,1]) * (1 + L[n,0,0] + L[n,1,0] + getPi(n, 0, [0, 0]))\n",
        "#  if m[n] == 1:\n",
        "#    T[n,1,state_number] = 1 / (m[n] * mu[n,1]) * (1 + L[n,0,0] + L[n,1,0]) \n",
        "#  if m[n] == 0:\n",
        "#    T[n,1,state_number] = 1 / mu[n,1]\n",
        "\n",
        "\n",
        "#for n in range(len(m)):\n",
        "#  if m[n] > 1:\n",
        "#    T[n,1,0,1] = 1 / (m[n] * mu[n,1]) * (1 + L[n,0,0,1-1] + L[n,1,0,1-1] + getPi(n, 0, [0, 0]))\n",
        "#  if m[n] == 1:\n",
        "#    T[n,1,0,1] = 1 / (m[n] * mu[n,1]) * (1 + L[n,0,0,1-1] + L[n,1,0,1-1]) \n",
        "#  if m[n] == 0:\n",
        "#    T[n,1,0,1] = 1 / mu[n,1]\n",
        "#T"
      ],
      "metadata": {
        "id": "j3_VoJh9i_dM"
      },
      "execution_count": 17,
      "outputs": []
    },
    {
      "cell_type": "code",
      "source": [
        "#Step2.2\n",
        "#et = 0\n",
        "#for i in range(len(m)):\n",
        "#  et += alpha[i,1] * T[i,1,state_number]\n",
        "  #et += alpha[i,1] * T[i,1,0,1]\n",
        "#Lambda[1][state_number] = k[1] / et\n",
        "#Lambda[0] = k[0] / (alpha[0,0] * T[0,0,1,0] + alpha[1,0] * T[1,0,1,0] + alpha[2,0] * T[2,0,1,0])\n",
        "#Lambda"
      ],
      "metadata": {
        "id": "1oRwBmF-19aW"
      },
      "execution_count": 18,
      "outputs": []
    },
    {
      "cell_type": "code",
      "source": [
        "#Step2.3\n",
        "#L[0,1,state_number] = Lambda[1][state_number] * T[0,1,state_number] * alpha[0,1]\n",
        "#L[1,1,state_number] = Lambda[1][state_number] * T[1,1,state_number] * alpha[1,1]\n",
        "#L[2,1,state_number] = Lambda[1][state_number] * T[2,1,state_number] * alpha[2,1]\n",
        "\n",
        "#L[0,1,1,0] = Lambda[1] * T[0,1,0,1] * alpha[0,1]\n",
        "#L[1,1,1,0] = Lambda[1] * T[1,1,0,1] * alpha[1,1]\n",
        "#L[2,1,1,0] = Lambda[1] * T[2,1,0,1] * alpha[2,1]\n",
        "#L"
      ],
      "metadata": {
        "id": "ywSa5FqK3Ron"
      },
      "execution_count": 19,
      "outputs": []
    },
    {
      "cell_type": "code",
      "source": [
        "#k = np.array([1, 1])\n",
        "#for r in range(len(K)):\n",
        "#  state_number = getState(K, k)\n",
        "#  kr = np.zeros(len(k))\n",
        "#  kr[r] += 1\n",
        "#  kr_state_number = int(getState_kr(K, k, kr))\n",
        "#  print(kr_state_number)\n",
        "\n",
        "#  if kr_state_number < 0:\n",
        "#    for n in range(len(m)):\n",
        "#      T[n,r,state_number] = 0\n",
        "#  else:\n",
        "#    for n in range(len(m)): \n",
        "#      if m[n] >= 1:\n",
        "#        sum_L = 0\n",
        "#        for _r in range(len(K)): #Lの和の部分を計算\n",
        "#          sum_L += getL(n, _r, kr_state_number)\n",
        "#        print('sum_L = {0}, (n, r) = ({1}, {2})'.format(sum_L, n, r))\n",
        "#        T[n,r,state_number] = 1 / (m[n] * mu[n,r]) * (1 + sum_L)\n",
        "#        if m[n] > 1:\n",
        "#          sum_pi = 0\n",
        "#          for _j in range(m[n]-2+1):\n",
        "#            sum_pi += getPi(n, _j, k, kr)\n",
        "#            print('getPi({0}, {1}, {2}, {3}) = {4}'.format(n, _j, k, kr, getPi(n, _j, k, kr))) \n",
        "#          print('sum_pi = {0}, (n, r) = ({1}, {2})'.format(sum_pi, n, r))\n",
        "#          T[n,r,state_number] += 1 / (m[n] * mu[n,r]) * sum_pi\n",
        "#      if m[n] == 0:\n",
        "#        T[n,r,state_number] = 1 / mu[n,r]   \n",
        "#T\n",
        "#getPi8_44が２回呼び出されている"
      ],
      "metadata": {
        "id": "msSB_bu133tA"
      },
      "execution_count": 20,
      "outputs": []
    },
    {
      "cell_type": "code",
      "source": [
        "#Step2.2\n",
        "#for r in range(len(K)):\n",
        "#  et = 0\n",
        "#  for i in range(len(m)):\n",
        "#    et += alpha[i,r] * T[i,r,state_number]\n",
        "    #et += alpha[i,1] * T[i,1,0,1]\n",
        "#  Lambda[r][state_number] = k[r] / et\n",
        "  #Lambda[0] = k[0] / (alpha[0,0] * T[0,0,1,0] + alpha[1,0] * T[1,0,1,0] + alpha[2,0] * T[2,0,1,0])\n",
        "#Lambda"
      ],
      "metadata": {
        "id": "yZNo1RfWIIiJ"
      },
      "execution_count": 21,
      "outputs": []
    },
    {
      "cell_type": "code",
      "source": [
        "#Step2.3\n",
        "#for n in range(len(m)):\n",
        "#  for r in range(len(K)):\n",
        "#    L[n,r,state_number] = Lambda[r][state_number] * T[n,r,state_number] * alpha[n,r]\n",
        "#L"
      ],
      "metadata": {
        "id": "o8tv5L1Hr7yP"
      },
      "execution_count": 22,
      "outputs": []
    },
    {
      "cell_type": "code",
      "source": [
        ""
      ],
      "metadata": {
        "id": "pNABin8J3SEe"
      },
      "execution_count": 22,
      "outputs": []
    }
  ]
}