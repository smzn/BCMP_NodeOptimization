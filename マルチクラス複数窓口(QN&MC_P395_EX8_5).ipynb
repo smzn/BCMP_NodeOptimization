{
  "nbformat": 4,
  "nbformat_minor": 0,
  "metadata": {
    "colab": {
      "name": "マルチクラス複数窓口(QN&MC P395 EX8.5).ipynb",
      "provenance": [],
      "collapsed_sections": []
    },
    "kernelspec": {
      "name": "python3",
      "display_name": "Python 3"
    },
    "language_info": {
      "name": "python"
    }
  },
  "cells": [
    {
      "cell_type": "code",
      "execution_count": 1,
      "metadata": {
        "id": "M7zcZPDZuLKW"
      },
      "outputs": [],
      "source": [
        "import numpy as np\n",
        "from numpy.linalg import solve"
      ]
    },
    {
      "cell_type": "code",
      "source": [
        "#初期設定\n",
        "K = [2, 1]\n",
        "m = [2, 1, 0] #Node3はIS(Infinite server)\n",
        "mu = np.array([[5.0, 5.0], [5/2, 5/3], [1, 0.5]])\n",
        "alpha = np.array([[1.0, 1.0], [0.6, 0.3], [0.4, 0.7]])\n",
        "\n",
        "#2022/07/11 状態算出 (今回は3進数2桁)\n",
        "max_state_number = max(K) * (max(K) + 1)**1 + max(K) * (max(K) + 1)**0\n",
        "max_state_number\n",
        "\n",
        "L = np.zeros((3,2,max_state_number))\n",
        "T = np.zeros((3,2,max_state_number))\n",
        "Lambda = np.zeros((len(K)))\n",
        "#L = np.zeros((3,2,3,2))\n",
        "#T = np.zeros((3,2,3,2))\n",
        "#Lambda = np.zeros((2))"
      ],
      "metadata": {
        "id": "vuc9kathudqa"
      },
      "execution_count": 28,
      "outputs": []
    },
    {
      "cell_type": "code",
      "source": [
        "def getPi(n, j, k, kr):\n",
        "  kkr = k - kr #指定クラスを1引いたもの\n",
        "  if min(kkr) < 0:\n",
        "    return 0\n",
        "  if j == 0 and sum(kkr) == 0:\n",
        "    return 1"
      ],
      "metadata": {
        "id": "dGXEZHRD5YRW"
      },
      "execution_count": 29,
      "outputs": []
    },
    {
      "cell_type": "code",
      "source": [
        "def getState_kr(K, k, kr):\n",
        "  state = 0\n",
        "  kkr = k - kr\n",
        "  if min(kkr) < 0:\n",
        "    return -1\n",
        "  else:\n",
        "    for i in range(len(k)):\n",
        "      state += k[i] * (max(K) + 1)**int(len(k)-1-i)\n",
        "    return state"
      ],
      "metadata": {
        "id": "oPDrKGJEKRBg"
      },
      "execution_count": 30,
      "outputs": []
    },
    {
      "cell_type": "code",
      "source": [
        "def getState(K, k):\n",
        "  state = 0\n",
        "  for i in range(len(k)):\n",
        "    state += k[i] * (max(K) + 1)**int(len(k)-1-i)\n",
        "  return state"
      ],
      "metadata": {
        "id": "6yslr5f7LZRG"
      },
      "execution_count": 31,
      "outputs": []
    },
    {
      "cell_type": "code",
      "source": [
        "def getL(n, r, state_number):\n",
        "  if state_number >= 0:\n",
        "    return L[n,r,state_number]\n",
        "  else:\n",
        "    return 0"
      ],
      "metadata": {
        "id": "Fk80ilPlsatB"
      },
      "execution_count": 32,
      "outputs": []
    },
    {
      "cell_type": "code",
      "source": [
        "k = np.array([1, 0])\n",
        "\n",
        "for r in range(len(K)):\n",
        "\n",
        "  state_number = getState(K, k)\n",
        "  kr = np.zeros(len(k))\n",
        "  kr[r] += 1\n",
        "  kr_state_number = int(getState_kr(K, k, kr))\n",
        "  print(kr_state_number)\n",
        "\n",
        "  if kr_state_number < 0:\n",
        "    for n in range(len(m)):\n",
        "      T[n,r,state_number] = 0\n",
        "  else:\n",
        "    for n in range(len(m)): # r = 0\n",
        "      if m[n] >= 1:\n",
        "        sum_L = 0\n",
        "        for _r in range(len(K)): #Lの和の部分を計算\n",
        "          sum_L += getL(n, _r, kr_state_number)\n",
        "        T[n,r,state_number] = 1 / (m[n] * mu[n,r]) * (1 + sum_L)\n",
        "        if m[n] > 1:\n",
        "          sum_pi = 0\n",
        "          for _j in range(m[n]-2+1):\n",
        "            sum_pi += getPi(n, _j, k, kr) \n",
        "          T[n,r,state_number] += 1 / (m[n] * mu[n,r]) * sum_pi\n",
        "          #T[n,r,state_number] += 1 / (m[n] * mu[n,r]) * getPi(n, 0, k, kr) #この0は一般化する\n",
        "      #if m[n] > 1:\n",
        "      #  T[n,r,state_number] = 1 / (m[n] * mu[n,r]) * (1 + getL(n,0,kr_state_number) + getL(n,1,kr_state_number) + getPi(n, 0, k, kr)) #getLの和を作成\n",
        "      #if m[n] == 1:\n",
        "      #  T[n,r,state_number] = 1 / (m[n] * mu[n,r]) * (1 + getL(n,0,kr_state_number) + getL(n,1,kr_state_number)) \n",
        "      if m[n] == 0:\n",
        "        T[n,r,state_number] = 1 / mu[n,r]   \n",
        "\n",
        "\n",
        "#r = 1\n",
        "#kr = np.zeros(len(k))\n",
        "#kr[r] += 1\n",
        "#print(k - kr)\n",
        "#print(min(k - kr))\n",
        "#kr_state_number = int(getState_kr(K, k, kr))\n",
        "#print(kr_state_number)\n",
        "#k - krを実施して、最小値が負になる場合は計算をしないようにする\n",
        "\n",
        "#if kr_state_number < 0:\n",
        "#  for n in range(len(m)):\n",
        "#    T[n,1,state_number] = 0\n",
        "#else: \n",
        "#  for n in range(len(m)): \n",
        "#    if m[n] > 1:\n",
        "#      T[n,1,state_number] = 1 / (m[n] * mu[n,1]) * (1 + getL(n,0,kr_state_number) + getL(n,1,kr_state_number) + getPi(n, 0, k, kr))\n",
        "#    if m[n] == 1:\n",
        "#      T[n,1,state_number] = 1 / (m[n] * mu[n,1]) * (1 + getL(n,0,kr_state_number) + getL(n,1,kr_state_number)) \n",
        "#    if m[n] == 0:\n",
        "#      T[n,1,state_number] = 1 / mu[n,1]   \n",
        "\n",
        "\n",
        "#for n in range(len(m)):\n",
        "#  if m[n] > 1:\n",
        "#    T[n,0,1,0] = 1 / (m[n] * mu[n,0]) * (1 + L[n,0,1-1,0] + L[n,1,1-1,0] + getPi(n, 0, [0, 0]))\n",
        "#  if m[n] == 1:\n",
        "#    T[n,0,1,0] = 1 / (m[n] * mu[n,0]) * (1 + L[n,0,1-1,0] + L[n,1,1-1,0]) \n",
        "#  if m[n] == 0:\n",
        "#    T[n,0,1,0] = 1 / mu[n,0]   \n",
        "#T[1,0,1,0] = 1 / (m[1] * mu[1,0]) * (1 + L[1,0,1-1,0] + L[1,1,1-1,0])\n",
        "#T[2,0,1,0] = 1 / mu[2,0]\n",
        "T"
      ],
      "metadata": {
        "colab": {
          "base_uri": "https://localhost:8080/"
        },
        "id": "oh_RPlZ5wCRl",
        "outputId": "60a9a764-704e-4f04-9af2-2ec8e583a780"
      },
      "execution_count": 33,
      "outputs": [
        {
          "output_type": "stream",
          "name": "stdout",
          "text": [
            "3\n",
            "-1\n"
          ]
        },
        {
          "output_type": "execute_result",
          "data": {
            "text/plain": [
              "array([[[0. , 0. , 0. , 0.2, 0. , 0. , 0. , 0. ],\n",
              "        [0. , 0. , 0. , 0. , 0. , 0. , 0. , 0. ]],\n",
              "\n",
              "       [[0. , 0. , 0. , 0.4, 0. , 0. , 0. , 0. ],\n",
              "        [0. , 0. , 0. , 0. , 0. , 0. , 0. , 0. ]],\n",
              "\n",
              "       [[0. , 0. , 0. , 1. , 0. , 0. , 0. , 0. ],\n",
              "        [0. , 0. , 0. , 0. , 0. , 0. , 0. , 0. ]]])"
            ]
          },
          "metadata": {},
          "execution_count": 33
        }
      ]
    },
    {
      "cell_type": "code",
      "source": [
        "#Step2.2\n",
        "et = 0\n",
        "for i in range(len(m)):\n",
        "  et += alpha[i,0] * T[i,0,state_number]\n",
        "  #et += alpha[i,0] * T[i,0,1,0]\n",
        "Lambda[0] = k[0] / et\n",
        "#Lambda[0] = k[0] / (alpha[0,0] * T[0,0,1,0] + alpha[1,0] * T[1,0,1,0] + alpha[2,0] * T[2,0,1,0])\n",
        "Lambda[0]"
      ],
      "metadata": {
        "id": "mlXaAyeR6Bzd",
        "colab": {
          "base_uri": "https://localhost:8080/"
        },
        "outputId": "1cf138a3-fcab-47b5-8243-8b181344c0c4"
      },
      "execution_count": 34,
      "outputs": [
        {
          "output_type": "execute_result",
          "data": {
            "text/plain": [
              "1.1904761904761905"
            ]
          },
          "metadata": {},
          "execution_count": 34
        }
      ]
    },
    {
      "cell_type": "code",
      "source": [
        "#Step2.3\n",
        "L[0,0,state_number] = Lambda[0] * T[0,0,state_number] * alpha[0,0]\n",
        "L[1,0,state_number] = Lambda[0] * T[1,0,state_number] * alpha[1,0]\n",
        "L[2,0,state_number] = Lambda[0] * T[2,0,state_number] * alpha[2,0]\n",
        "\n",
        "#L[0,0,1,0] = Lambda[0] * T[0,0,1,0] * alpha[0,0]\n",
        "#L[1,0,1,0] = Lambda[0] * T[1,0,1,0] * alpha[1,0]\n",
        "#L[2,0,1,0] = Lambda[0] * T[2,0,1,0] * alpha[2,0]\n",
        "L"
      ],
      "metadata": {
        "colab": {
          "base_uri": "https://localhost:8080/"
        },
        "id": "CWbTHaOYQPav",
        "outputId": "99bc0f80-c6b8-4ced-8b63-fdf76ed599af"
      },
      "execution_count": 35,
      "outputs": [
        {
          "output_type": "execute_result",
          "data": {
            "text/plain": [
              "array([[[0.        , 0.        , 0.        , 0.23809524, 0.        ,\n",
              "         0.        , 0.        , 0.        ],\n",
              "        [0.        , 0.        , 0.        , 0.        , 0.        ,\n",
              "         0.        , 0.        , 0.        ]],\n",
              "\n",
              "       [[0.        , 0.        , 0.        , 0.28571429, 0.        ,\n",
              "         0.        , 0.        , 0.        ],\n",
              "        [0.        , 0.        , 0.        , 0.        , 0.        ,\n",
              "         0.        , 0.        , 0.        ]],\n",
              "\n",
              "       [[0.        , 0.        , 0.        , 0.47619048, 0.        ,\n",
              "         0.        , 0.        , 0.        ],\n",
              "        [0.        , 0.        , 0.        , 0.        , 0.        ,\n",
              "         0.        , 0.        , 0.        ]]])"
            ]
          },
          "metadata": {},
          "execution_count": 35
        }
      ]
    },
    {
      "cell_type": "code",
      "source": [
        "k = np.array([0, 1])\n",
        "for r in range(len(K)):\n",
        "  state_number = getState(K, k)\n",
        "  kr = np.zeros(len(k))\n",
        "  kr[r] += 1\n",
        "  kr_state_number = int(getState_kr(K, k, kr))\n",
        "  print(kr_state_number)\n",
        "\n",
        "  if kr_state_number < 0:\n",
        "    for n in range(len(m)):\n",
        "      T[n,r,state_number] = 0\n",
        "  else:\n",
        "    for n in range(len(m)): \n",
        "      if m[n] >= 1:\n",
        "        sum_L = 0\n",
        "        for _r in range(len(K)): #Lの和の部分を計算\n",
        "          sum_L += getL(n, _r, kr_state_number)\n",
        "        T[n,r,state_number] = 1 / (m[n] * mu[n,r]) * (1 + sum_L)\n",
        "        if m[n] > 1:\n",
        "          sum_pi = 0\n",
        "          for _j in range(m[n]-2+1):\n",
        "            sum_pi += getPi(n, _j, k, kr) \n",
        "          T[n,r,state_number] += 1 / (m[n] * mu[n,r]) * sum_pi\n",
        "      if m[n] == 0:\n",
        "        T[n,r,state_number] = 1 / mu[n,r]   \n",
        "T"
      ],
      "metadata": {
        "colab": {
          "base_uri": "https://localhost:8080/"
        },
        "id": "DsTl8ivfyD7Y",
        "outputId": "cfa58998-b419-40c5-8db3-ee5af945fba6"
      },
      "execution_count": 36,
      "outputs": [
        {
          "output_type": "stream",
          "name": "stdout",
          "text": [
            "-1\n",
            "1\n"
          ]
        },
        {
          "output_type": "execute_result",
          "data": {
            "text/plain": [
              "array([[[0. , 0. , 0. , 0.2, 0. , 0. , 0. , 0. ],\n",
              "        [0. , 0.2, 0. , 0. , 0. , 0. , 0. , 0. ]],\n",
              "\n",
              "       [[0. , 0. , 0. , 0.4, 0. , 0. , 0. , 0. ],\n",
              "        [0. , 0.6, 0. , 0. , 0. , 0. , 0. , 0. ]],\n",
              "\n",
              "       [[0. , 0. , 0. , 1. , 0. , 0. , 0. , 0. ],\n",
              "        [0. , 2. , 0. , 0. , 0. , 0. , 0. , 0. ]]])"
            ]
          },
          "metadata": {},
          "execution_count": 36
        }
      ]
    },
    {
      "cell_type": "code",
      "source": [
        "#k = [0, 1]\n",
        "#state_number = k[0] * (max(K) + 1)**1 + k[1] * (max(K) + 1)**0\n",
        "#print(state_number)\n",
        "\n",
        "#for n in range(len(m)):\n",
        "#  if m[n] > 1:\n",
        "#    T[n,1,state_number] = 1 / (m[n] * mu[n,1]) * (1 + L[n,0,0] + L[n,1,0] + getPi(n, 0, [0, 0]))\n",
        "#  if m[n] == 1:\n",
        "#    T[n,1,state_number] = 1 / (m[n] * mu[n,1]) * (1 + L[n,0,0] + L[n,1,0]) \n",
        "#  if m[n] == 0:\n",
        "#    T[n,1,state_number] = 1 / mu[n,1]\n",
        "\n",
        "\n",
        "#for n in range(len(m)):\n",
        "#  if m[n] > 1:\n",
        "#    T[n,1,0,1] = 1 / (m[n] * mu[n,1]) * (1 + L[n,0,0,1-1] + L[n,1,0,1-1] + getPi(n, 0, [0, 0]))\n",
        "#  if m[n] == 1:\n",
        "#    T[n,1,0,1] = 1 / (m[n] * mu[n,1]) * (1 + L[n,0,0,1-1] + L[n,1,0,1-1]) \n",
        "#  if m[n] == 0:\n",
        "#    T[n,1,0,1] = 1 / mu[n,1]\n",
        "#T"
      ],
      "metadata": {
        "id": "j3_VoJh9i_dM"
      },
      "execution_count": 38,
      "outputs": []
    },
    {
      "cell_type": "code",
      "source": [
        "#Step2.2\n",
        "et = 0\n",
        "for i in range(len(m)):\n",
        "  et += alpha[i,1] * T[i,1,state_number]\n",
        "  #et += alpha[i,1] * T[i,1,0,1]\n",
        "Lambda[1] = k[1] / et\n",
        "#Lambda[0] = k[0] / (alpha[0,0] * T[0,0,1,0] + alpha[1,0] * T[1,0,1,0] + alpha[2,0] * T[2,0,1,0])\n",
        "Lambda[1]"
      ],
      "metadata": {
        "colab": {
          "base_uri": "https://localhost:8080/"
        },
        "id": "1oRwBmF-19aW",
        "outputId": "2d9b060c-25c5-4682-d2b2-20bd8c08fa7a"
      },
      "execution_count": 39,
      "outputs": [
        {
          "output_type": "execute_result",
          "data": {
            "text/plain": [
              "0.5617977528089888"
            ]
          },
          "metadata": {},
          "execution_count": 39
        }
      ]
    },
    {
      "cell_type": "code",
      "source": [
        "#Step2.3\n",
        "L[0,1,state_number] = Lambda[1] * T[0,1,state_number] * alpha[0,1]\n",
        "L[1,1,state_number] = Lambda[1] * T[1,1,state_number] * alpha[1,1]\n",
        "L[2,1,state_number] = Lambda[1] * T[2,1,state_number] * alpha[2,1]\n",
        "\n",
        "#L[0,1,1,0] = Lambda[1] * T[0,1,0,1] * alpha[0,1]\n",
        "#L[1,1,1,0] = Lambda[1] * T[1,1,0,1] * alpha[1,1]\n",
        "#L[2,1,1,0] = Lambda[1] * T[2,1,0,1] * alpha[2,1]\n",
        "L"
      ],
      "metadata": {
        "colab": {
          "base_uri": "https://localhost:8080/"
        },
        "id": "ywSa5FqK3Ron",
        "outputId": "64945a35-801b-4e95-f1d7-c58d08432059"
      },
      "execution_count": 40,
      "outputs": [
        {
          "output_type": "execute_result",
          "data": {
            "text/plain": [
              "array([[[0.        , 0.        , 0.        , 0.23809524, 0.        ,\n",
              "         0.        , 0.        , 0.        ],\n",
              "        [0.        , 0.11235955, 0.        , 0.        , 0.        ,\n",
              "         0.        , 0.        , 0.        ]],\n",
              "\n",
              "       [[0.        , 0.        , 0.        , 0.28571429, 0.        ,\n",
              "         0.        , 0.        , 0.        ],\n",
              "        [0.        , 0.1011236 , 0.        , 0.        , 0.        ,\n",
              "         0.        , 0.        , 0.        ]],\n",
              "\n",
              "       [[0.        , 0.        , 0.        , 0.47619048, 0.        ,\n",
              "         0.        , 0.        , 0.        ],\n",
              "        [0.        , 0.78651685, 0.        , 0.        , 0.        ,\n",
              "         0.        , 0.        , 0.        ]]])"
            ]
          },
          "metadata": {},
          "execution_count": 40
        }
      ]
    },
    {
      "cell_type": "code",
      "source": [
        "k = np.array([1,1])\n",
        "kr = np.array([0,1])\n",
        "k - kr\n"
      ],
      "metadata": {
        "id": "msSB_bu133tA"
      },
      "execution_count": null,
      "outputs": []
    },
    {
      "cell_type": "code",
      "source": [
        ""
      ],
      "metadata": {
        "id": "yZNo1RfWIIiJ"
      },
      "execution_count": null,
      "outputs": []
    }
  ]
}