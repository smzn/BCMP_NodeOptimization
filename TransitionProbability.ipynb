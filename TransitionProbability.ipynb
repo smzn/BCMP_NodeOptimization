{
 "cells": [
  {
   "cell_type": "markdown",
   "metadata": {
    "id": "0D2-7j8NuW9x"
   },
   "source": [
    "## 推移確率行列の作成関数"
   ]
  },
  {
   "cell_type": "code",
   "execution_count": 1,
   "metadata": {
    "id": "mZCULK-Qz3vf"
   },
   "outputs": [],
   "source": [
    "import pandas as pd\n",
    "import numpy as np"
   ]
  },
  {
   "cell_type": "code",
   "execution_count": 28,
   "metadata": {
    "colab": {
     "base_uri": "https://localhost:8080/"
    },
    "id": "bzzK7zIT0MGw",
    "outputId": "4116fb21-ae9a-49f3-f9ae-dd9d15d5234e"
   },
   "outputs": [
    {
     "data": {
      "text/plain": [
       "[[16, 4],\n",
       " [4, 5],\n",
       " [6, 5],\n",
       " [7, 16],\n",
       " [3, 4],\n",
       " [4, 4],\n",
       " [5, 8],\n",
       " [2, 5],\n",
       " [6, 6],\n",
       " [14, 3],\n",
       " [7, 2],\n",
       " [5, 11],\n",
       " [7, 6],\n",
       " [6, 16],\n",
       " [7, 5],\n",
       " [4, 6],\n",
       " [8, 5],\n",
       " [5, 5],\n",
       " [3, 4],\n",
       " [3, 5],\n",
       " [3, 5],\n",
       " [4, 7],\n",
       " [3, 2],\n",
       " [5, 6],\n",
       " [6, 13],\n",
       " [8, 7],\n",
       " [3, 4],\n",
       " [4, 7],\n",
       " [17, 3],\n",
       " [7, 13],\n",
       " [18, 18],\n",
       " [19, 4],\n",
       " [14, 17]]"
      ]
     },
     "execution_count": 28,
     "metadata": {},
     "output_type": "execute_result"
    }
   ],
   "source": [
    "popularity = pd.read_csv('./csv/popularity_33_2_500_20_76_200.csv', engine='python', encoding='utf-8', header=None)\n",
    "N = len(popularity.values.tolist())\n",
    "R = len(popularity.values.tolist()[0])\n",
    "K_total = 200\n",
    "popularity.values.tolist()"
   ]
  },
  {
   "cell_type": "code",
   "execution_count": 19,
   "metadata": {
    "colab": {
     "base_uri": "https://localhost:8080/",
     "height": 419
    },
    "id": "_e6TsPuk0fS1",
    "outputId": "e529bfeb-05c6-4d10-8dd6-893ce7c09e12"
   },
   "outputs": [
    {
     "data": {
      "text/plain": [
       "array([[  0.     , 124.7758 , 485.02577, ..., 289.83616, 230.78345,\n",
       "        289.84996],\n",
       "       [124.7758 ,   0.     , 378.84166, ..., 250.71099, 198.17669,\n",
       "        166.64333],\n",
       "       [485.02577, 378.84166,   0.     , ..., 283.95246, 312.64197,\n",
       "        237.11811],\n",
       "       ...,\n",
       "       [289.83616, 250.71099, 283.95246, ...,   0.     ,  59.07622,\n",
       "        256.90854],\n",
       "       [230.78345, 198.17669, 312.64197, ...,  59.07622,   0.     ,\n",
       "        235.28706],\n",
       "       [289.84996, 166.64333, 237.11811, ..., 256.90854, 235.28706,\n",
       "          0.     ]])"
      ]
     },
     "execution_count": 19,
     "metadata": {},
     "output_type": "execute_result"
    }
   ],
   "source": [
    "distance_matrix = pd.read_csv('./csv/distance_33_2_500_20_76_200.csv', engine='python', encoding='utf-8', header=None)\n",
    "distance_matrix.values"
   ]
  },
  {
   "cell_type": "code",
   "execution_count": 21,
   "metadata": {
    "id": "sAWL7Arv2Xbe"
   },
   "outputs": [],
   "source": [
    "#重力モデルで推移確率行列を作成 \n",
    "def getGravity(distance, popularity): #distanceは距離行列、popularityはクラス分の人気度\n",
    "    C = 0.1475\n",
    "    alpha = 1.0\n",
    "    beta = 1.0\n",
    "    eta = 0.5\n",
    "    class_number = len(popularity[0]) #クラス数\n",
    "    tp = np.zeros((len(distance) * class_number, len(distance) * class_number))\n",
    "    for r in range(class_number):\n",
    "        for i in range(len(distance) * r, len(distance) * (r+1)):\n",
    "            for j in range(len(distance) * r, len(distance) * (r+1)):\n",
    "                if distance[i % len(distance)][j % len(distance)] > 0:\n",
    "                    tp[i][j] = C * (popularity[i % len(distance)][r]**alpha) * (popularity[j % len(distance)][r]**beta) / (distance[i % len(distance)][j % len(distance)]**eta)\n",
    "    row_sum = np.sum(tp, axis=1) #行和を算出\n",
    "    for i in range(len(tp)): #行和を1にする\n",
    "        if row_sum[i] > 0:\n",
    "            tp[i] /= row_sum[i]\n",
    "    return tp "
   ]
  },
  {
   "cell_type": "code",
   "execution_count": 29,
   "metadata": {
    "id": "XrtYVOEx-9ZW"
   },
   "outputs": [
    {
     "data": {
      "text/plain": [
       "array([[0.        , 0.02461401, 0.01872649, ..., 0.        , 0.        ,\n",
       "        0.        ],\n",
       "       [0.0858907 , 0.        , 0.01848476, ..., 0.        , 0.        ,\n",
       "        0.        ],\n",
       "       [0.05547021, 0.0156911 , 0.        , ..., 0.        , 0.        ,\n",
       "        0.        ],\n",
       "       ...,\n",
       "       [0.        , 0.        , 0.        , ..., 0.        , 0.03558781,\n",
       "        0.07252827],\n",
       "       [0.        , 0.        , 0.        , ..., 0.13504199, 0.        ,\n",
       "        0.06390761],\n",
       "       [0.        , 0.        , 0.        , ..., 0.07079332, 0.0164388 ,\n",
       "        0.        ]])"
      ]
     },
     "execution_count": 29,
     "metadata": {},
     "output_type": "execute_result"
    }
   ],
   "source": [
    "p = getGravity(distance_matrix.values, popularity.values.tolist())\n",
    "np.savetxt('./Result/inital_p_'+str(N)+'_'+str(R)+'_'+str(K_total)+'.csv', p, delimiter=',', fmt='%.5f')\n",
    "#saveCSV(transitionprob, '/content/drive/MyDrive/研究/BCMP/TransitionProbability/csv/transition_test.csv')\n",
    "p"
   ]
  },
  {
   "cell_type": "code",
   "execution_count": 30,
   "metadata": {
    "id": "ZDqoxcAq0bLd"
   },
   "outputs": [],
   "source": [
    "#MVAファイルの取り込み\n",
    "#import sys\n",
    "#sys.path.append('/content/drive/MyDrive/研究/BCMP/')\n",
    "import BCMP_MVA as mdl"
   ]
  },
  {
   "cell_type": "code",
   "execution_count": 31,
   "metadata": {
    "colab": {
     "base_uri": "https://localhost:8080/"
    },
    "id": "oDQGaKek0rCi",
    "outputId": "42f5136f-7894-4b84-9b12-8cb01fd09292"
   },
   "outputs": [
    {
     "name": "stdout",
     "output_type": "stream",
     "text": [
      "calclation_time:30.6965594291687[sec]\n",
      "L = \n",
      "[[9.41037909e-01 2.91643009e-01]\n",
      " [1.68819091e-01 2.24089093e-01]\n",
      " [1.94530120e-01 1.68480254e-01]\n",
      " [5.98171528e-01 1.30167023e+00]\n",
      " [1.11747308e-01 1.52387673e-01]\n",
      " [1.56028202e-01 1.59408832e-01]\n",
      " [1.79223177e-01 2.90592192e-01]\n",
      " [7.04133929e-02 1.79190426e-01]\n",
      " [2.94148870e-01 2.93696452e-01]\n",
      " [7.87675230e-01 1.82000073e-01]\n",
      " [2.44386002e-01 7.20198850e-02]\n",
      " [2.87457993e-01 5.83762174e-01]\n",
      " [3.12677851e-01 2.81009263e-01]\n",
      " [4.36150233e-01 1.06493493e+00]\n",
      " [3.23200699e-01 2.37009195e-01]\n",
      " [1.79982049e-01 2.83241757e-01]\n",
      " [4.51996280e-01 2.90697324e-01]\n",
      " [2.18306035e-01 2.29574068e-01]\n",
      " [1.46656143e-01 2.02894551e-01]\n",
      " [1.13431169e-01 1.78568155e-01]\n",
      " [1.32855629e-01 2.29015636e-01]\n",
      " [2.32664408e-01 4.02876834e-01]\n",
      " [1.14962544e-01 7.36361489e-02]\n",
      " [2.24580658e-01 2.61942314e-01]\n",
      " [2.34323179e-01 5.04075594e-01]\n",
      " [5.06852580e-01 4.65284537e-01]\n",
      " [1.15436632e-01 1.57118913e-01]\n",
      " [1.48774912e-01 2.60479989e-01]\n",
      " [9.80968295e-01 1.93194593e-01]\n",
      " [6.07467226e-01 1.13481575e+00]\n",
      " [8.33989706e+01 8.26933404e+01]\n",
      " [1.71245944e+00 4.12410176e-01]\n",
      " [5.37364463e+00 6.54493957e+00]]\n"
     ]
    }
   ],
   "source": [
    "#MVAの実施\n",
    "import time\n",
    "#N = 33 #33\n",
    "#R = 2\n",
    "K_total = 200\n",
    "K = [(K_total + i) // R for i in range(R)] #クラス人数を自動的に配分する\n",
    "mu = np.full((R, N), 1) #サービス率を同じ値で生成(サービス率は調整が必要)\n",
    "type_list = np.full(N, 1) #サービスタイプはFCFS\n",
    "m = np.full(N, 1) #今回は窓口数1(複数窓口は実装できていない)\n",
    "bcmp = mdl.BCMP_MVA(N, R, K, mu, type_list, p, m)\n",
    "start = time.time()\n",
    "L = bcmp.getMVA()\n",
    "elapsed_time = time.time() - start\n",
    "print (\"calclation_time:{0}\".format(elapsed_time) + \"[sec]\")\n",
    "print('L = \\n{0}'.format(L))\n",
    "np.savetxt('./Result/inital_L_'+str(N)+'_'+str(R)+'_'+str(K_total)+'.csv', L, delimiter=',', fmt='%.5f')"
   ]
  },
  {
   "cell_type": "code",
   "execution_count": null,
   "metadata": {
    "id": "r5x272-D1icy"
   },
   "outputs": [],
   "source": []
  }
 ],
 "metadata": {
  "colab": {
   "provenance": []
  },
  "kernelspec": {
   "display_name": "Python 3",
   "language": "python",
   "name": "python3"
  },
  "language_info": {
   "codemirror_mode": {
    "name": "ipython",
    "version": 3
   },
   "file_extension": ".py",
   "mimetype": "text/x-python",
   "name": "python",
   "nbconvert_exporter": "python",
   "pygments_lexer": "ipython3",
   "version": "3.6.8"
  }
 },
 "nbformat": 4,
 "nbformat_minor": 1
}
