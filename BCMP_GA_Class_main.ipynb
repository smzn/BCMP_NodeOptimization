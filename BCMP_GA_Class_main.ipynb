{
  "nbformat": 4,
  "nbformat_minor": 0,
  "metadata": {
    "colab": {
      "name": "BCMP_GA_Class_main.ipynb",
      "provenance": []
    },
    "kernelspec": {
      "name": "python3",
      "display_name": "Python 3"
    },
    "language_info": {
      "name": "python"
    }
  },
  "cells": [
    {
      "cell_type": "code",
      "metadata": {
        "colab": {
          "base_uri": "https://localhost:8080/"
        },
        "id": "UXjutonWgXhh",
        "outputId": "29c49f39-652a-4fb1-b6d0-9ac3bd322f59"
      },
      "source": [
        "from google.colab import drive\n",
        "drive.mount('/content/drive', force_remount=True)"
      ],
      "execution_count": 1,
      "outputs": [
        {
          "output_type": "stream",
          "name": "stdout",
          "text": [
            "Mounted at /content/drive\n"
          ]
        }
      ]
    },
    {
      "cell_type": "code",
      "metadata": {
        "colab": {
          "base_uri": "https://localhost:8080/"
        },
        "id": "s27vJau0gt3u",
        "outputId": "11f58f34-8177-46e9-be09-a194f0561c4d"
      },
      "source": [
        "!pip install mpi4py"
      ],
      "execution_count": 2,
      "outputs": [
        {
          "output_type": "stream",
          "name": "stdout",
          "text": [
            "Collecting mpi4py\n",
            "  Downloading mpi4py-3.1.1.tar.gz (2.4 MB)\n",
            "\u001b[K     |████████████████████████████████| 2.4 MB 6.8 MB/s \n",
            "\u001b[?25h  Installing build dependencies ... \u001b[?25l\u001b[?25hdone\n",
            "  Getting requirements to build wheel ... \u001b[?25l\u001b[?25hdone\n",
            "    Preparing wheel metadata ... \u001b[?25l\u001b[?25hdone\n",
            "Building wheels for collected packages: mpi4py\n",
            "  Building wheel for mpi4py (PEP 517) ... \u001b[?25l\u001b[?25hdone\n",
            "  Created wheel for mpi4py: filename=mpi4py-3.1.1-cp37-cp37m-linux_x86_64.whl size=2180613 sha256=de2dd13b50be7b92b63e9dea72490840aba8c20c897cbb7acbe65efcc1d4ec7e\n",
            "  Stored in directory: /root/.cache/pip/wheels/91/be/c0/2b0347be1de5cd8ca9fe67da7ec8c3fe8930fcb6b0df6f2255\n",
            "Successfully built mpi4py\n",
            "Installing collected packages: mpi4py\n",
            "Successfully installed mpi4py-3.1.1\n"
          ]
        }
      ]
    },
    {
      "cell_type": "code",
      "metadata": {
        "colab": {
          "base_uri": "https://localhost:8080/"
        },
        "id": "jBqNaDwphc4D",
        "outputId": "71b7e77a-e433-4424-d08b-7e7a7e60f3f6"
      },
      "source": [
        "!mpiexec --allow-run-as-root -n 4 python3 /content/drive/MyDrive/研究/BCMP/BCMP_GA_Class.py 33 2 50 20 6 5"
      ],
      "execution_count": 33,
      "outputs": [
        {
          "output_type": "stream",
          "name": "stdout",
          "text": [
            "0世代\n",
            "Singular Matrix\n",
            "0世代評価 : [88.5, 86.5, 49.0438659268337, 88.5, 96.5, 92.5]\n",
            "0世代, new best [1, 0, 0, 0, 1, 1, 0, 1, 1, 0, 1, 0, 1, 1, 1, 0, 0, 1, 1, 1, 0, 0, 1, 1, 1, 0, 0, 1, 1, 1, 0, 1, 1] = 88.5\n",
            "拠点利用数 : 20\n",
            "1世代\n",
            "1世代評価 : [47.22165396668915, 173.0, 143.5438659268337, 179.0, 86.5, 177.0]\n",
            "2世代\n",
            "2世代評価 : [92.5, 265.5, 188.28270306677118, 265.5, 88.5, 223.13557295276743]\n",
            "3世代\n",
            "Singular Matrix\n",
            "3世代評価 : [92.5, 358.0, 268.7827030667712, 308.56638639405395, 49.1363331662409, 270.1487178726059]\n",
            "3世代, new best [0, 1, 1, 0, 1, 0, 1, 1, 1, 1, 1, 0, 1, 0, 0, 1, 1, 1, 0, 1, 1, 1, 0, 1, 1, 1, 0, 1, 0, 0, 1, 0, 1] = 49.1363331662409\n",
            "拠点利用数 : 21\n",
            "4世代\n",
            "Singular Matrix\n",
            "Singular Matrix\n",
            "4世代評価 : [92.5, 404.21806111294563, 363.2827030667712, 401.06638639405395, 90.5, 356.6487178726059]\n",
            "Done!\n",
            "f([0, 1, 1, 0, 1, 0, 1, 1, 1, 1, 1, 0, 1, 0, 0, 1, 1, 1, 0, 1, 1, 1, 0, 1, 1, 1, 0, 1, 0, 0, 1, 0, 1]) = 49.136333\n",
            "calclation_time:91.1604700088501[sec]\n"
          ]
        }
      ]
    },
    {
      "cell_type": "code",
      "metadata": {
        "id": "fppqw5ItjcEP"
      },
      "source": [
        ""
      ],
      "execution_count": null,
      "outputs": []
    },
    {
      "cell_type": "code",
      "metadata": {
        "id": "acNuZDc9jqWn"
      },
      "source": [
        "from google.colab import drive\n",
        "drive.mount('/content/drive')"
      ],
      "execution_count": null,
      "outputs": []
    }
  ]
}