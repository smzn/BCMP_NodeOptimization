{
 "cells": [
  {
   "cell_type": "code",
   "execution_count": 1,
   "metadata": {
    "colab": {
     "base_uri": "https://localhost:8080/"
    },
    "id": "UXjutonWgXhh",
    "outputId": "34612e54-de56-49c2-d7dd-0fa2c6fe4b94"
   },
   "outputs": [
    {
     "name": "stdout",
     "output_type": "stream",
     "text": [
      "Mounted at /content/drive\n"
     ]
    }
   ],
   "source": [
    "from google.colab import drive\n",
    "drive.mount('/content/drive', force_remount=True)"
   ]
  },
  {
   "cell_type": "code",
   "execution_count": 1,
   "metadata": {
    "colab": {
     "base_uri": "https://localhost:8080/"
    },
    "id": "s27vJau0gt3u",
    "outputId": "924f5d6c-910a-49b7-cafb-8728e780228f"
   },
   "outputs": [
    {
     "name": "stdout",
     "output_type": "stream",
     "text": [
      "Requirement already satisfied: mpi4py in /home/mzn000/anaconda3/lib/python3.8/site-packages (3.0.3)\r\n"
     ]
    }
   ],
   "source": [
    "!pip install mpi4py"
   ]
  },
  {
   "cell_type": "code",
   "execution_count": null,
   "metadata": {
    "colab": {
     "base_uri": "https://localhost:8080/"
    },
    "id": "jBqNaDwphc4D",
    "outputId": "d702f149-8fd1-4e9f-91a4-6912dc718956"
   },
   "outputs": [],
   "source": [
    "#!mpiexec --allow-run-as-root -n 2 python3 /content/drive/MyDrive/研究/BCMP/BCMP_GA_Class.py 33 2 100 20 6 3\n",
    "#!mpiexec -n 1 python3 BCMP_GA_Class.py 33 2 100 20 10 10"
   ]
  },
  {
   "cell_type": "markdown",
   "metadata": {
    "id": "fppqw5ItjcEP"
   },
   "source": [
    "!mpiexec -n 1 python3 BCMP_GA_Class.py 33 2 100 20 10 10\n",
    "n = 1 "
   ]
  },
  {
   "cell_type": "markdown",
   "metadata": {},
   "source": [
    "mpiexec -n 1 python3 BCMP_GA_Class.py 33 2 100 20 6 3  \n",
    "f([0, 1, 0, 1, 1, 0, 1, 1, 1, 1, 0, 1, 0, 0, 0, 1, 1, 0, 1, 1, 1, 1, 0, 1, 1, 1, 0, 0, 0, 1, 1, 1, 0]) = 106.429225  \n",
    "calclation_time:95.0525803565979[sec]  \n",
    "\n",
    "n=2  \n",
    "f([1, 0, 0, 1, 1, 0, 0, 1, 1, 1, 1, 0, 0, 1, 0, 1, 1, 0, 0, 1, 1, 1, 0, 1, 1, 1, 1, 1, 1, 0, 1, 0, 0]) = 177.000000  \n",
    "calclation_time:59.37956118583679[sec]  \n",
    "\n",
    "n=3  \n",
    "f([0, 1, 1, 1, 1, 1, 0, 1, 1, 0, 0, 1, 0, 1, 1, 1, 1, 1, 1, 1, 0, 1, 1, 1, 0, 1, 1, 0, 0, 1, 0, 1, 0]) = 118.907191  \n",
    "calclation_time:37.509007692337036[sec]  \n",
    "\n",
    "n=4. \n",
    "f([0, 1, 0, 0, 0, 1, 0, 1, 1, 1, 1, 0, 1, 1, 1, 0, 0, 1, 1, 0, 1, 1, 1, 1, 1, 0, 1, 0, 1, 1, 1, 1, 1]) = 120.723612  \n",
    "calclation_time:35.41542863845825[sec]  \n",
    "\n",
    "n=5. \n",
    "f([1, 0, 0, 1, 1, 0, 1, 1, 0, 1, 0, 1, 1, 0, 1, 1, 1, 1, 1, 1, 0, 0, 1, 1, 0, 0, 1, 0, 0, 0, 1, 1, 1]) = 177.000000  \n",
    "calclation_time:38.86658334732056[sec]  \n",
    "\n",
    "n=6. \n",
    "f([0, 1, 0, 1, 1, 1, 1, 1, 1, 0, 0, 1, 1, 1, 0, 1, 1, 1, 0, 1, 0, 0, 1, 1, 1, 1, 1, 1, 0, 0, 1, 0, 1]) = 118.949468  \n",
    "calclation_time:21.534754276275635[sec]  \n",
    "\n",
    "mpiexec -n 6 python3 BCMP_GA_Class.py 33 2 100 20 12 3  \n",
    "f([0, 0, 1, 0, 1, 1, 1, 1, 1, 1, 1, 0, 1, 1, 0, 1, 1, 0, 1, 0, 0, 0, 1, 0, 1, 0, 0, 1, 0, 1, 1, 1, 1]) = 102.752665  \n",
    "calclation_time:42.687769412994385[sec]  \n",
    "\n",
    "mpiexec -n 6 python3 BCMP_GA_Class.py 33 2 100 20 18 3  \n",
    "f([0, 1, 0, 1, 1, 1, 0, 0, 0, 1, 1, 1, 1, 0, 1, 1, 1, 0, 0, 1, 1, 1, 1, 0, 1, 1, 0, 1, 0, 1, 0, 1, 0]) = 113.884363  \n",
    "calclation_time:60.51806974411011[sec]  \n",
    "\n",
    "mpiexec -n 6 python3 BCMP_GA_Class.py 33 2 100 20 18 5  \n",
    "f([0, 1, 1, 0, 1, 1, 1, 1, 1, 1, 0, 0, 0, 0, 0, 1, 1, 0, 0, 0, 1, 1, 1, 1, 1, 1, 1, 0, 0, 1, 1, 1, 0]) = 112.635259  \n",
    "calclation_time:99.37335586547852[sec]  \n",
    "\n",
    "mpiexec -n 6 python3 BCMP_GA_Class.py 33 2 100 20 18 10  \n",
    "f([0, 1, 1, 1, 0, 1, 1, 1, 1, 1, 0, 1, 0, 1, 1, 1, 0, 1, 1, 0, 0, 1, 0, 0, 1, 1, 0, 0, 1, 1, 0, 1, 0]) = 109.231628  \n",
    "calclation_time:194.28632354736328[sec]  \n",
    "\n",
    "mpiexec -n 6 python3 BCMP_GA_Class.py 33 2 100 20 18 20  \n",
    "f([0, 0, 1, 1, 1, 1, 1, 1, 1, 0, 1, 1, 0, 0, 1, 1, 1, 0, 1, 0, 0, 1, 0, 1, 1, 0, 0, 1, 0, 1, 1, 1, 0]) = 106.501001  \n",
    "calclation_time:396.7992899417877[sec]  \n",
    "\n",
    "mpiexec -n 6 python3 BCMP_GA_Class.py 33 2 100 20 18 30  \n",
    "f([0, 0, 1, 1, 0, 0, 1, 1, 1, 0, 1, 1, 1, 0, 1, 1, 1, 1, 1, 0, 0, 1, 0, 1, 1, 1, 0, 1, 1, 0, 1, 0, 0]) = 111.045316  \n",
    "calclation_time:592.0716691017151[sec]  \n",
    "\n",
    "mpiexec -n 6 python3 BCMP_GA_Class.py 33 2 100 20 18 50  \n",
    "f([0, 0, 1, 1, 1, 1, 1, 0, 1, 1, 1, 0, 1, 1, 0, 1, 1, 0, 1, 0, 1, 1, 1, 0, 0, 1, 0, 1, 1, 0, 0, 1, 0]) = 109.902344  \n",
    "calclation_time:987.7741413116455[sec]  \n",
    "\n",
    "mpiexec -n 6 python3 BCMP_GA_Class.py 33 2 100 20 24 50  \n",
    "f([0, 0, 1, 1, 1, 1, 1, 1, 1, 1, 0, 0, 0, 1, 1, 0, 1, 0, 1, 0, 0, 1, 1, 1, 1, 1, 0, 0, 1, 1, 0, 1, 0]) = 107.742484  \n",
    "calclation_time:1312.592877149582[sec]  \n",
    "\n",
    "mpiexec -n 6 python3 BCMP_GA_Class.py 33 2 100 20 30 50  \n",
    "f([0, 1, 1, 0, 1, 1, 1, 0, 1, 1, 0, 0, 1, 1, 0, 1, 1, 1, 1, 0, 1, 1, 1, 0, 1, 0, 0, 0, 0, 1, 1, 1, 1]) = 110.890240  \n",
    "calclation_time:1641.701453447342[sec]  \n",
    "\n",
    "mpiexec -n 6 python3 BCMP_GA_Class.py 33 2 100 20 36 50  \n",
    "f([0, 0, 1, 1, 1, 1, 1, 1, 1, 1, 0, 0, 1, 0, 1, 0, 0, 1, 1, 0, 0, 0, 1, 1, 1, 1, 1, 1, 0, 0, 1, 1, 0]) = 102.724026  \n",
    "calclation_time:1920.7004232406616[sec]  \n",
    "\n",
    "mpiexec -n 6 python3 BCMP_GA_Class.py 33 2 500 20 6 1  \n",
    "f([0, 1, 1, 1, 0, 1, 0, 0, 1, 1, 0, 0, 0, 1, 0, 1, 0, 1, 1, 1, 1, 1, 1, 0, 1, 0, 1, 1, 0, 1, 1, 1, 1]) = 685.507146  \n",
    "calclation_time:175.51253008842468[sec]  \n",
    "\n",
    "mpiexec -n 6 python3 BCMP_GA_Class.py 33 2 500 20 12 1  \n",
    "f([0, 1, 0, 1, 1, 1, 1, 1, 0, 1, 1, 1, 0, 1, 0, 1, 0, 0, 1, 1, 1, 0, 1, 1, 1, 1, 1, 0, 0, 1, 0, 1, 0]) = 684.226027  \n",
    "calclation_time:339.6446764469147[sec]  \n",
    "\n",
    "mpiexec -n 6 python3 BCMP_GA_Class.py 33 2 500 20 18 10  \n"
   ]
  },
  {
   "cell_type": "code",
   "execution_count": null,
   "metadata": {},
   "outputs": [],
   "source": []
  }
 ],
 "metadata": {
  "accelerator": "TPU",
  "colab": {
   "name": "BCMP_GA_Class_main.ipynb",
   "provenance": []
  },
  "kernelspec": {
   "display_name": "Python 3",
   "language": "python",
   "name": "python3"
  },
  "language_info": {
   "codemirror_mode": {
    "name": "ipython",
    "version": 3
   },
   "file_extension": ".py",
   "mimetype": "text/x-python",
   "name": "python",
   "nbconvert_exporter": "python",
   "pygments_lexer": "ipython3",
   "version": "3.8.3"
  }
 },
 "nbformat": 4,
 "nbformat_minor": 1
}
