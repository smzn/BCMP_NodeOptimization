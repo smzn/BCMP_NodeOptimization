{
  "nbformat": 4,
  "nbformat_minor": 0,
  "metadata": {
    "colab": {
      "name": "シングルクラス複数窓口(QN&MCP390EX8.4).ipynb",
      "provenance": [],
      "collapsed_sections": []
    },
    "kernelspec": {
      "name": "python3",
      "display_name": "Python 3"
    },
    "language_info": {
      "name": "python"
    }
  },
  "cells": [
    {
      "cell_type": "code",
      "execution_count": 8,
      "metadata": {
        "id": "3QEN0KxgC5BP"
      },
      "outputs": [],
      "source": [
        "import numpy as np\n",
        "from numpy.linalg import solve"
      ]
    },
    {
      "cell_type": "code",
      "source": [
        "#閉鎖型ネットワークのノード到着率αを求める\n",
        "def getCloseTraffic(p):\n",
        "    e = np.eye(len(p)-1) #次元を1つ小さくする\n",
        "    pe = p[1:len(p), 1:len(p)].T - e #行と列を指定して次元を小さくする\n",
        "    lmd = p[0, 1:len(p)] #0行1列からの値を右辺に用いる\n",
        "    try:\n",
        "        slv = solve(pe, lmd * (-1)) #2021/09/28 ここで逆行列がないとエラーが出る\n",
        "    except np.linalg.LinAlgError as err: #2021/09/29 Singular Matrixが出た時は、対角成分に小さい値を足すことで対応 https://www.kuroshum.com/entry/2018/12/28/python%E3%81%A7singular_matrix%E3%81%8C%E8%B5%B7%E3%81%8D%E3%82%8B%E7%90%86%E7%94%B1\n",
        "        print('Singular Matrix')\n",
        "        pe += e * 0.00001 \n",
        "        slv = solve(pe, lmd * (-1)) \n",
        "    #lmd *= -1\n",
        "    #slv = np.linalg.pinv(pe) * lmd #疑似逆行列で求める\n",
        "    alpha = np.insert(slv, 0, 1.0) #α1=1を追加\n",
        "    return alpha    "
      ],
      "metadata": {
        "id": "hUrcxwU6GRtY"
      },
      "execution_count": 15,
      "outputs": []
    },
    {
      "cell_type": "code",
      "source": [
        "def getT(m, mu, k):\n",
        "  for i in range(len(mu)):\n",
        "    if m[i] == 1: #窓口数1\n",
        "      T[i] = 1 / mu[i] * (1 + L[i])\n",
        "    if m[i] == 0 : #無限サーバ(IS)\n",
        "      T[i] = 1 / mu[i]\n",
        "    if m[i] > 1 : #複数窓口\n",
        "      val = 1 / (mu[i] * m[i])\n",
        "      tmp = 1 + L[i]\n",
        "      for j in range(m[i]-2 + 1):\n",
        "        tmp += (m[i] - j - 1) * getPi(i, j, k - 1)\n",
        "      val *= tmp\n",
        "      T[i] = val  "
      ],
      "metadata": {
        "id": "kHAhX-6wOdxH"
      },
      "execution_count": 26,
      "outputs": []
    },
    {
      "cell_type": "code",
      "source": [
        "def getPi(i, a, b):\n",
        "  if a == 0 and b == 0:\n",
        "    return pi[i][a][b]\n",
        "  if a == 0 and b > 0: #(8.36)\n",
        "    tmp = alpha[i] * Lambda[b-1] / mu[i]\n",
        "    for j in range(1, m[i] -1 + 1):\n",
        "      tmp += (m[i] -j) * getPi(i, j, b) #再帰呼び出し\n",
        "    print('i = {0}, a = {1}, b = {2}, pi = {3}'.format(i, a, b, 1 - 1 / m[i] *tmp))\n",
        "    return 1 - 1 / m[i] * tmp\n",
        "  else: #(8.37)\n",
        "    alp = m[i]\n",
        "    if a <= m[i]:#P387上部\n",
        "      alp = a\n",
        "    print('i = {0}, a = {1}, b = {2}, pi = {3}'.format(i, a, b, Lambda[b-1] / (mu[i] * alp) * getPi(i, a-1, b-1)))\n",
        "    return Lambda[b-1] / (mu[i] * alp) * getPi(i, a-1, b-1) #再帰呼び出し"
      ],
      "metadata": {
        "id": "oiuuezWdMNVR"
      },
      "execution_count": 27,
      "outputs": []
    },
    {
      "cell_type": "code",
      "source": [
        "def getLambda(alpha, k):\n",
        "  tmp = 0\n",
        "  for i in range(len(alpha)):\n",
        "    tmp += alpha[i] * T[i]\n",
        "  #Lambda = 1 / tmp\n",
        "  return k / tmp"
      ],
      "metadata": {
        "id": "YwcPZleTRyc7"
      },
      "execution_count": 28,
      "outputs": []
    },
    {
      "cell_type": "code",
      "source": [
        "def getL(alpha, k):\n",
        "  for i in range(len(alpha)):\n",
        "    L[i] = Lambda[k-1] * T[i] * alpha[i]"
      ],
      "metadata": {
        "id": "24Zwo-viX-ha"
      },
      "execution_count": 29,
      "outputs": []
    },
    {
      "cell_type": "code",
      "source": [
        "#初期設定\n",
        "K = 3\n",
        "m = [2, 1, 1, 0] #Node4はIS(Infinite server)\n",
        "mu = [2.0, 5/3, 5/4, 1.0]\n",
        "p = np.array([[0, 0.5, 0.5, 0],\n",
        "              [0, 0, 0, 1],\n",
        "              [0, 0, 0, 1],\n",
        "              [1, 0, 0, 0]\n",
        "              ])\n",
        "#Step1 (k = 0)\n",
        "L = np.zeros(len(p))\n",
        "T = np.zeros(len(p))\n",
        "Lambda = np.zeros(K)\n",
        "pi = np.zeros((len(p), K, K))\n",
        "pi[:][0][0] = 1\n",
        "print('pi = {}'.format(pi))\n",
        "#到着率を求める\n",
        "alpha = getCloseTraffic(p)\n",
        "print('alpha = {}'.format(alpha))\n",
        "\n",
        "#k = 1\n",
        "k = 1\n",
        "getT(m, mu, k)\n",
        "print('T({0}) = {1}'.format(k, T))\n",
        "Lambda[k-1] = getLambda(alpha, k)\n",
        "print('Lambda({0}) = {1}'.format(k, Lambda[k-1]))\n",
        "getL(alpha, k)\n",
        "print('L({0}) = {1}'.format(k, L))\n",
        "\n",
        "#k = 2\n",
        "k = 2\n",
        "getT(m, mu, k)\n",
        "print('T({0}) = {1}'.format(k, T))\n",
        "Lambda[k-1] = getLambda(alpha, k)\n",
        "print('Lambda({0}) = {1}'.format(k, Lambda[k-1]))\n",
        "getL(alpha, k)\n",
        "print('L({0}) = {1}'.format(k, L))\n",
        "\n",
        "#ここまでOK k >= 3のとき値が違っているので確認する (2022/06/13)\n",
        "#多分計算済みのλが更新されてしまっているので、それを保存して使うか、piを保存する\n",
        "#k = 3\n",
        "k = 3\n",
        "getT(m, mu, k)\n",
        "print('T({0}) = {1}'.format(k, T))\n",
        "Lambda[k-1] = getLambda(alpha, k)\n",
        "print('Lambda({0}) = {1}'.format(k, Lambda[k-1]))\n",
        "getL(alpha, k)\n",
        "print('L({0}) = {1}'.format(k, L))"
      ],
      "metadata": {
        "colab": {
          "base_uri": "https://localhost:8080/"
        },
        "id": "eT8nJKTfDFyD",
        "outputId": "ccdde3c9-7c7b-49e7-fffc-435143ff9ac5"
      },
      "execution_count": 30,
      "outputs": [
        {
          "output_type": "stream",
          "name": "stdout",
          "text": [
            "pi = [[[1. 1. 1.]\n",
            "  [0. 0. 0.]\n",
            "  [0. 0. 0.]]\n",
            "\n",
            " [[0. 0. 0.]\n",
            "  [0. 0. 0.]\n",
            "  [0. 0. 0.]]\n",
            "\n",
            " [[0. 0. 0.]\n",
            "  [0. 0. 0.]\n",
            "  [0. 0. 0.]]\n",
            "\n",
            " [[0. 0. 0.]\n",
            "  [0. 0. 0.]\n",
            "  [0. 0. 0.]]]\n",
            "alpha = [1.  0.5 0.5 1. ]\n",
            "T(1) = [0.5 0.6 0.8 1. ]\n",
            "Lambda(1) = 0.45454545454545453\n",
            "L(1) = [0.22727273 0.13636364 0.18181818 0.45454545]\n",
            "i = 0, a = 1, b = 1, pi = 0.22727272727272727\n",
            "i = 0, a = 0, b = 1, pi = 0.7727272727272727\n",
            "T(2) = [0.5        0.68181818 0.94545455 1.        ]\n",
            "Lambda(2) = 0.8644400785854618\n",
            "L(2) = [0.43222004 0.29469548 0.4086444  0.86444008]\n",
            "i = 0, a = 1, b = 1, pi = 0.22727272727272727\n",
            "i = 0, a = 0, b = 1, pi = 0.7727272727272727\n",
            "i = 0, a = 1, b = 2, pi = 0.3339882121807466\n",
            "i = 0, a = 1, b = 1, pi = 0.22727272727272727\n",
            "i = 0, a = 0, b = 1, pi = 0.7727272727272727\n",
            "i = 0, a = 0, b = 2, pi = 0.6168958742632613\n",
            "T(3) = [0.51227898 0.77681729 1.12691552 1.        ]\n",
            "Lambda(3) = 1.2174606338449274\n",
            "L(3) = [0.62367949 0.47287223 0.68598764 1.21746063]\n"
          ]
        }
      ]
    },
    {
      "cell_type": "code",
      "source": [
        ""
      ],
      "metadata": {
        "id": "GoT4uhmTIl_V"
      },
      "execution_count": 14,
      "outputs": []
    },
    {
      "cell_type": "code",
      "source": [
        ""
      ],
      "metadata": {
        "id": "ixuT7WYUIuWF"
      },
      "execution_count": 14,
      "outputs": []
    },
    {
      "cell_type": "code",
      "source": [
        ""
      ],
      "metadata": {
        "id": "MdrRNY5mUPpa"
      },
      "execution_count": 14,
      "outputs": []
    }
  ]
}