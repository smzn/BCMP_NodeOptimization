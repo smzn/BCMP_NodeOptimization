{
  "nbformat": 4,
  "nbformat_minor": 0,
  "metadata": {
    "colab": {
      "name": "BCMP_NodeOptimization.ipynb",
      "provenance": [],
      "collapsed_sections": []
    },
    "kernelspec": {
      "name": "python3",
      "display_name": "Python 3"
    },
    "language_info": {
      "name": "python"
    }
  },
  "cells": [
    {
      "cell_type": "code",
      "metadata": {
        "colab": {
          "base_uri": "https://localhost:8080/"
        },
        "id": "VrZBd3FR6rXe",
        "outputId": "da6c7286-9572-4b17-9d84-e176636f15df"
      },
      "source": [
        "!pip install deap"
      ],
      "execution_count": 1,
      "outputs": [
        {
          "output_type": "stream",
          "name": "stdout",
          "text": [
            "Collecting deap\n",
            "  Downloading deap-1.3.1-cp37-cp37m-manylinux_2_5_x86_64.manylinux1_x86_64.manylinux_2_12_x86_64.manylinux2010_x86_64.whl (160 kB)\n",
            "\u001b[?25l\r\u001b[K     |██                              | 10 kB 24.1 MB/s eta 0:00:01\r\u001b[K     |████                            | 20 kB 32.1 MB/s eta 0:00:01\r\u001b[K     |██████                          | 30 kB 28.1 MB/s eta 0:00:01\r\u001b[K     |████████▏                       | 40 kB 21.1 MB/s eta 0:00:01\r\u001b[K     |██████████▏                     | 51 kB 9.4 MB/s eta 0:00:01\r\u001b[K     |████████████▏                   | 61 kB 10.0 MB/s eta 0:00:01\r\u001b[K     |██████████████▎                 | 71 kB 9.2 MB/s eta 0:00:01\r\u001b[K     |████████████████▎               | 81 kB 8.7 MB/s eta 0:00:01\r\u001b[K     |██████████████████▎             | 92 kB 7.8 MB/s eta 0:00:01\r\u001b[K     |████████████████████▍           | 102 kB 8.5 MB/s eta 0:00:01\r\u001b[K     |██████████████████████▍         | 112 kB 8.5 MB/s eta 0:00:01\r\u001b[K     |████████████████████████▍       | 122 kB 8.5 MB/s eta 0:00:01\r\u001b[K     |██████████████████████████▌     | 133 kB 8.5 MB/s eta 0:00:01\r\u001b[K     |████████████████████████████▌   | 143 kB 8.5 MB/s eta 0:00:01\r\u001b[K     |██████████████████████████████▌ | 153 kB 8.5 MB/s eta 0:00:01\r\u001b[K     |████████████████████████████████| 160 kB 8.5 MB/s \n",
            "\u001b[?25hRequirement already satisfied: numpy in /usr/local/lib/python3.7/dist-packages (from deap) (1.19.5)\n",
            "Installing collected packages: deap\n",
            "Successfully installed deap-1.3.1\n"
          ]
        }
      ]
    },
    {
      "cell_type": "code",
      "metadata": {
        "colab": {
          "base_uri": "https://localhost:8080/"
        },
        "id": "OdYBqDBX60eo",
        "outputId": "0eeb01bd-31d0-411d-b166-d6420b91c295"
      },
      "source": [
        "from google.colab import drive\n",
        "drive.mount('/content/drive', force_remount=True)"
      ],
      "execution_count": 2,
      "outputs": [
        {
          "output_type": "stream",
          "name": "stdout",
          "text": [
            "Mounted at /content/drive\n"
          ]
        }
      ]
    },
    {
      "cell_type": "code",
      "metadata": {
        "id": "SdmxHxSK7Tre",
        "colab": {
          "base_uri": "https://localhost:8080/"
        },
        "outputId": "937b9beb-676b-46ba-b827-bde2d2e38383"
      },
      "source": [
        "!python /content/drive/MyDrive/研究/BCMP/BCMP_NodeOptimization.py 33 2 50 20 10 10\n",
        "# N R K_total node_number(利用拠点数) npop(遺伝子数) ngen(世代数)"
      ],
      "execution_count": 9,
      "outputs": [
        {
          "output_type": "stream",
          "name": "stdout",
          "text": [
            "gen\tnevals\tavg       \tstd       \tmin   \tmax      \n",
            "0  \t10    \t[90008.85]\t[29973.45]\t[88.5]\t[100000.]\n",
            "1  \t9     \t[80018.3] \t[39963.4000025]\t[90.5]\t[100000.]\n",
            "2  \t9     \t[30063.15]\t[45784.41560021]\t[88.5]\t[100000.]\n",
            "3  \t10    \t[20072.2] \t[39963.9000244] \t[88.5]\t[100000.]\n",
            "Singular Matrix\n",
            "4  \t10    \t[10080.45]\t[29973.18334816]\t[88.5]\t[100000.]\n",
            "5  \t7     \t[40053.3] \t[48946.27559131]\t[88.5]\t[100000.]\n",
            "6  \t7     \t[40053.3] \t[48946.27559131]\t[88.5]\t[100000.]\n",
            "7  \t10    \t[60035.4] \t[48946.43888722]\t[88.5]\t[100000.]\n",
            "8  \t8     \t[40053.9] \t[48945.78571174]\t[88.5]\t[100000.]\n",
            "9  \t10    \t[30063.15]\t[45784.41560021]\t[88.5]\t[100000.]\n",
            "10 \t9     \t[10080.85]\t[29973.05005338]\t[88.5]\t[100000.]\n",
            "Optimized Node : [1, 1, 1, 1, 0, 1, 1, 1, 1, 0, 0, 0, 0, 0, 1, 1, 1, 1, 1, 1, 0, 1, 1, 0, 0, 1, 1, 0, 1, 0, 0, 0, 1]\n",
            "Optimized ObjectiveFunction : (88.5,)\n"
          ]
        }
      ]
    },
    {
      "cell_type": "code",
      "metadata": {
        "id": "jkst8LxN7xKT"
      },
      "source": [
        ""
      ],
      "execution_count": 3,
      "outputs": []
    }
  ]
}