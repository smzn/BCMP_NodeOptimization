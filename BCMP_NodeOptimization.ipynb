{
  "nbformat": 4,
  "nbformat_minor": 0,
  "metadata": {
    "colab": {
      "name": "BCMP_NodeOptimization.ipynb",
      "provenance": []
    },
    "kernelspec": {
      "name": "python3",
      "display_name": "Python 3"
    },
    "language_info": {
      "name": "python"
    }
  },
  "cells": [
    {
      "cell_type": "code",
      "metadata": {
        "colab": {
          "base_uri": "https://localhost:8080/"
        },
        "id": "VrZBd3FR6rXe",
        "outputId": "0d363125-011c-40f7-f6c7-246f8f760c31"
      },
      "source": [
        "!pip install deap"
      ],
      "execution_count": null,
      "outputs": [
        {
          "output_type": "stream",
          "name": "stdout",
          "text": [
            "Requirement already satisfied: deap in /usr/local/lib/python3.7/dist-packages (1.3.1)\n",
            "Requirement already satisfied: numpy in /usr/local/lib/python3.7/dist-packages (from deap) (1.19.5)\n"
          ]
        }
      ]
    },
    {
      "cell_type": "code",
      "metadata": {
        "colab": {
          "base_uri": "https://localhost:8080/"
        },
        "id": "OdYBqDBX60eo",
        "outputId": "a9bbdcca-09e8-428e-845c-7765b32f4bed"
      },
      "source": [
        "from google.colab import drive\n",
        "drive.mount('/content/drive', force_remount=True)"
      ],
      "execution_count": null,
      "outputs": [
        {
          "output_type": "stream",
          "name": "stdout",
          "text": [
            "Mounted at /content/drive\n"
          ]
        }
      ]
    },
    {
      "cell_type": "code",
      "metadata": {
        "id": "SdmxHxSK7Tre",
        "colab": {
          "base_uri": "https://localhost:8080/"
        },
        "outputId": "e3007fb3-ef4e-4a29-cfc4-d96c7c1e7825"
      },
      "source": [
        "!python /content/drive/MyDrive/研究/BCMP/BCMP_NodeOptimization.py"
      ],
      "execution_count": 31,
      "outputs": [
        {
          "output_type": "stream",
          "name": "stdout",
          "text": [
            "gen\tnevals\tavg          \tstd          \tmin          \tmax   \n",
            "0  \t10    \t[88.50525456]\t[19.90593268]\t[48.47330123]\t[100.]\n",
            "1  \t10    \t[58.76305838]\t[19.29514627]\t[47.52145135]\t[100.]\n",
            "2  \t10    \t[57.94817785]\t[17.31020331]\t[47.52145135]\t[94.5]\n",
            "3  \t8     \t[69.75380302]\t[24.71198459]\t[48.06761478]\t[100.]\n",
            "4  \t9     \t[59.62456486]\t[20.21746805]\t[48.06761478]\t[100.]\n",
            "5  \t8     \t[64.98856114]\t[22.95398444]\t[48.06761478]\t[100.]\n",
            "6  \t9     \t[59.16225396]\t[20.46490446]\t[48.06761478]\t[100.]\n",
            "7  \t9     \t[58.74033354]\t[20.64554081]\t[48.06761478]\t[100.]\n",
            "8  \t8     \t[58.46662119]\t[20.76672248]\t[48.06761478]\t[100.]\n",
            "9  \t10    \t[58.77465198]\t[20.62214623]\t[48.06761478]\t[100.]\n",
            "10 \t10    \t[58.86210853]\t[20.59160354]\t[48.06761478]\t[100.]\n",
            "最も良い個体は [0, 1, 0, 1, 0, 1, 0, 0, 1, 0, 1, 1, 1, 0, 0, 1, 1, 1, 0, 1, 1, 1, 1, 1, 1, 0, 1, 1, 0, 1, 0, 1, 0]で、そのときの目的関数の値は (48.06761478234244,)\n",
            "Optimized Node : [0, 1, 0, 1, 0, 1, 0, 0, 1, 0, 1, 1, 1, 0, 0, 1, 1, 1, 0, 1, 1, 1, 1, 1, 1, 0, 1, 1, 0, 1, 0, 1, 0]\n",
            "Optimized ObjectiveFunction : (48.06761478234244,)\n"
          ]
        }
      ]
    },
    {
      "cell_type": "code",
      "metadata": {
        "id": "jkst8LxN7xKT"
      },
      "source": [
        ""
      ],
      "execution_count": null,
      "outputs": []
    }
  ]
}